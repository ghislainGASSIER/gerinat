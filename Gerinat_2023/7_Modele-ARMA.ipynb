{
 "cells": [
  {
   "cell_type": "markdown",
   "metadata": {},
   "source": [
    "<hr size=\"6\" color=\"blue\">\n",
    "<p style=\"text-align: center;\"><span style=\"color: #0000ff;\"><font size=\"+5\"><strong> Processus ARMA. </strong> </font></span> </p>\n",
    "<hr size=\"6\" color=\"blue\">"
   ]
  },
  {
   "cell_type": "markdown",
   "metadata": {},
   "source": [
    "https://openclassrooms.com/fr/courses/4525371-analysez-et-modelisez-des-series-temporelles/5001216-les-processus-ar-ma-et-arma"
   ]
  },
  {
   "cell_type": "code",
   "execution_count": 1,
   "metadata": {},
   "outputs": [],
   "source": [
    "import matplotlib.pyplot as plt\n",
    "import numpy as np\n",
    "import pandas as pd\n",
    "import statsmodels.api as sm\n",
    "from scipy import stats\n",
    "import warnings\n",
    "warnings.simplefilter(\"ignore\")#, \n",
    "from statsmodels.tsa.arima.model import ARIMA\n",
    "from statsmodels.graphics.api import qqplot"
   ]
  },
  {
   "cell_type": "markdown",
   "metadata": {},
   "source": [
    "En statistique, les modèles ARMA (modèles autorégressifs et moyenne mobile), ou aussi modèle de Box-Jenkins, sont les principaux modèles de séries temporelles.\n",
    "\n",
    "Étant donné une série temporelle Xt, le modèle ARMA est un outil pour comprendre et prédire, éventuellement, les valeurs futures de cette série. Le modèle est composé de deux parties : une part autorégressive (AR) et une part moyenne-mobile (MA). Le modèle est généralement noté ARMA(p,q), où p est l'ordre de la partie AR et q l'ordre de la partie MA. "
   ]
  },
  {
   "cell_type": "markdown",
   "metadata": {},
   "source": [
    "### Modèle Auto-Régressif (AR)\n",
    "\n",
    "Les modèles ***auto-régressifs*** fonctionnent en partant du principe que les valeurs passées ont un effet sur les valeurs actuelles. Les modèles AR sont couramment utilisés pour analyser la nature, l’économie et d’autres processus variables dans le temps. Tant que l’hypothèse tient, nous pouvons construire un modèle de régression linéaire qui tente de prédire aujourd’hui la valeur d’une variable dépendante, compte tenu des valeurs qu’elle avait les jours précédents.\n",
    "\n",
    "\\begin{equation}\n",
    "y(t)=\\beta_{1}y_{t-1}+\\beta_{2}y_{t-1}\\beta_{1}y_{t-2}+...+\\beta_{p}y_{t-p}\n",
    "\\end{equation}       \n",
    "L’ordre du modèle AR correspond au nombre de jours incorporé dans la formule."
   ]
  },
  {
   "cell_type": "markdown",
   "metadata": {},
   "source": [
    "### Modèle de la Moyenne Mobile (MA)\n",
    "\n",
    "Supposez que la valeur de la variable dépendante du jour en cours dépend des termes d’erreur des jours précédents. La formule peut être exprimée sous cette forme :\n",
    "\\begin{equation}\n",
    "y(t)=\\epsilon_t + \\alpha_{1}\\epsilon_{t-1}+ \\alpha_{2}\\epsilon_{t-2}+...+ \\alpha_{q}\\epsilon_{t-q}\n",
    "\\end{equation}   \n",
    "\n",
    "\n",
    "Vous pouvez également tomber sur l’équation écrite comme ceci :\n",
    "\\begin{equation}\n",
    "y(t)=\\mu+\\epsilon_t + \\theta_{1}\\epsilon_{t-1}+ \\theta_{2}\\epsilon_{t-2}+...+ \\theta_{q}\\epsilon_{t-q}\n",
    "\\end{equation} \n",
    "\n",
    "où $\\mu$ est la moyenne de la série, les $\\theta_{1},\\theta_{2},..,\\theta_{q}$  sont les paramètres du modèle et les $\\epsilon_{t},\\epsilon_{t-1},...,\\epsilon_{t-q}$ sont les termes d’erreur de bruit. La valeur de q estappelée l’ordre du modèle MA."
   ]
  },
  {
   "cell_type": "markdown",
   "metadata": {},
   "source": [
    "Modèle de la Moyenne Mobile Auto-Régressive (ARMA)\n",
    "\n",
    "Le modèle ARMA est simplement la combinaison des 2 précédents modèles AR et MA :\n",
    "\\begin{equation}\n",
    "y(t)=\\beta_{1}y_{t-1}+\\beta_{2}y_{t-1}\\beta_{1}y_{t-2}+...+\\beta_{p}y_{t-p}+\\epsilon_t + \n",
    "\\alpha_{1}\\epsilon_{t-1}+ \\alpha_{2}\\epsilon_{t-2}+...+ \\alpha_{q}\\epsilon_{t-q}\n",
    "\\end{equation}      \n",
    "    \n",
    "    \n",
    "\n",
    "### Modèle de la Moyenne Mobile Auto-Régressive Intégrée (ARIMA)\n",
    "\n",
    "Le modèle ARIMA ajoute une différence à un modèle ARMA. La différenciation soustrait la valeur actuelle de la précédente et peut être utilisée pour transformer une série temporelle en une série stationnaire. Par exemple, la différenciation du premier ordre traite des tendances linéaires et utilise la transformation zi = yi – yi-1. La différenciation du second ordre traite des tendances quadratiques et utilise une différence du premier ordre sur une différence du premier ordre, à savoir zi = (yi – yi-1) – (yi-1 – yi-2), et ainsi de suite.\n",
    "\n",
    "Trois entiers (p, d, q) sont généralement utilisés pour paramétrer les modèles ARIMA :\n",
    "- p : nombre de termes autorégressifs (ordre AR)\n",
    "- d : nombre de différences non saisonnières (ordre de différenciation)\n",
    "- q : nombre de termes moyens mobiles (ordre MA)"
   ]
  },
  {
   "cell_type": "markdown",
   "metadata": {},
   "source": [
    "<div style=\"border: 2px solid #C0392B; padding: 3px; background-color: #E6B0AA; -moz-border-radius-topleft: 5px; -moz-border-radius-topright: 5px; -moz-border-radius-bottomright: 5px; -moz-border-radius-bottomleft: 5px;\">\n",
    "    \n",
    "ARMA n'as de sens que si la variable est stationnaire\n",
    "Modéle ARMA quel est le processus qui a generé quelle sont les paramétre du modèle."
   ]
  },
  {
   "cell_type": "markdown",
   "metadata": {},
   "source": [
    "Se ramener à un processus stationnaire : transformer\n",
    "éventuellement les données, éliminer la tendance et la\n",
    "saisonnalité,...\n",
    "2. Identifier p et q :"
   ]
  },
  {
   "cell_type": "markdown",
   "metadata": {},
   "source": [
    "ARIMA-> ARMA + differencition\n",
    "ARMA-> modéle parcimonieux???\n",
    "Identification du processus par FAC et FACP\n",
    "th ;  PAC= pour k>q\n",
    "choix de p et Q par la FAC et FACT ou par leds test : Q ou Ljun g-Box \n",
    "Test de Box pierce p<0.05 alors h0 est rejetté => la serie n'est pas stationnaire\n",
    "signiogication des paramétre \n",
    "lmtest signification des paramétres\n",
    "\n",
    "https://openclassrooms.com/fr/courses/4525371-analysez-et-modelisez-des-series-temporelles/5001236-entrainez-des-modeles-sarima"
   ]
  },
  {
   "cell_type": "markdown",
   "metadata": {},
   "source": [
    "Un modèle ARMA peut être choisi lors de l'inspection de l'ACF et du PACF. Cette approche repose sur les faits suivants: -1\n",
    "- 1) l'ACF d'un processus AR stationnaire d'ordre p passe à zéro à un taux exponentiel, tandis que le PACF devient nul après  un décalage p.\n",
    "- 2) Pour un processus MA d'ordre q, l'ACF théorique et le PACF présentent le comportement inverse (l'ACF tronque après le décalage q et le PACF passe à zéro relativement rapidement)."
   ]
  },
  {
   "cell_type": "markdown",
   "metadata": {},
   "source": [
    "\n",
    "\n",
    "Procédé stationnaire autorégressif (AR)\n",
    "    La fonction d'autocorrélation (ACF) théorique des procédés autorégressifs (AR) stationnaires descend lentement vers zéro, au lieu de marquer une chute brutale. Les coefficients d'autocorrélation peuvent changer de signe fréquemment ou présenter un schéma en forme de vague mais ils tendent toujours lentement vers zéro. En revanche, la fonction d'autocorrélation partielle théorique (PACF) des procédés AR d'ordre p chute brutalement à zéro après le décalage p (la longueur de décalage du dernier pic de la PACF est égale à l'ordre AR du procédé, p). \n",
    "Procédé de moyenne mobile (MA)\n",
    "    La fonction ACF théorique des procédés MA (moyenne mobile) d'ordre q chute brutalement à zéro après le décalage q, l'ordre MA du procédé. En revanche, leur fonction PACF théorique décroit lentement vers zéro (la longueur de décalage du dernier pic de l'ACF est égale à l'ordre MA du procédé, q).\n",
    "Procédé mixte stationnaire (ARMA)\n",
    "    Les procédés mixtes stationnaires (ARMA) combinent des caractéristiques AR et MA. La fonction ACF théorique et la fonction PACF tendent vers zéro. "
   ]
  },
  {
   "cell_type": "code",
   "execution_count": 2,
   "metadata": {},
   "outputs": [],
   "source": [
    "Names=['Times','Pression']\n",
    "Type ={'Pression': float}#,dtype=Type\n",
    "dfsta=pd.read_csv('Data/Simulate/SimulatedStationnaire.csv',header=0,skiprows=0, parse_dates=['Times'],names=Names,index_col=0)"
   ]
  },
  {
   "cell_type": "code",
   "execution_count": 3,
   "metadata": {},
   "outputs": [
    {
     "data": {
      "text/html": [
       "<div>\n",
       "<style scoped>\n",
       "    .dataframe tbody tr th:only-of-type {\n",
       "        vertical-align: middle;\n",
       "    }\n",
       "\n",
       "    .dataframe tbody tr th {\n",
       "        vertical-align: top;\n",
       "    }\n",
       "\n",
       "    .dataframe thead th {\n",
       "        text-align: right;\n",
       "    }\n",
       "</style>\n",
       "<table border=\"1\" class=\"dataframe\">\n",
       "  <thead>\n",
       "    <tr style=\"text-align: right;\">\n",
       "      <th></th>\n",
       "      <th>Pression</th>\n",
       "    </tr>\n",
       "    <tr>\n",
       "      <th>Times</th>\n",
       "      <th></th>\n",
       "    </tr>\n",
       "  </thead>\n",
       "  <tbody>\n",
       "    <tr>\n",
       "      <th>2018-01-01 23:10:00</th>\n",
       "      <td>-0.204708</td>\n",
       "    </tr>\n",
       "    <tr>\n",
       "      <th>2018-01-01 23:15:00</th>\n",
       "      <td>0.192353</td>\n",
       "    </tr>\n",
       "    <tr>\n",
       "      <th>2018-01-01 23:20:00</th>\n",
       "      <td>-0.084332</td>\n",
       "    </tr>\n",
       "    <tr>\n",
       "      <th>2018-01-01 23:25:00</th>\n",
       "      <td>-0.837072</td>\n",
       "    </tr>\n",
       "    <tr>\n",
       "      <th>2018-01-01 23:30:00</th>\n",
       "      <td>0.816031</td>\n",
       "    </tr>\n",
       "    <tr>\n",
       "      <th>...</th>\n",
       "      <td>...</td>\n",
       "    </tr>\n",
       "    <tr>\n",
       "      <th>2018-01-06 22:45:00</th>\n",
       "      <td>0.310997</td>\n",
       "    </tr>\n",
       "    <tr>\n",
       "      <th>2018-01-06 22:50:00</th>\n",
       "      <td>0.602746</td>\n",
       "    </tr>\n",
       "    <tr>\n",
       "      <th>2018-01-06 22:55:00</th>\n",
       "      <td>0.333001</td>\n",
       "    </tr>\n",
       "    <tr>\n",
       "      <th>2018-01-06 23:00:00</th>\n",
       "      <td>-0.806774</td>\n",
       "    </tr>\n",
       "    <tr>\n",
       "      <th>2018-01-06 23:05:00</th>\n",
       "      <td>-0.053616</td>\n",
       "    </tr>\n",
       "  </tbody>\n",
       "</table>\n",
       "<p>1440 rows × 1 columns</p>\n",
       "</div>"
      ],
      "text/plain": [
       "                     Pression\n",
       "Times                        \n",
       "2018-01-01 23:10:00 -0.204708\n",
       "2018-01-01 23:15:00  0.192353\n",
       "2018-01-01 23:20:00 -0.084332\n",
       "2018-01-01 23:25:00 -0.837072\n",
       "2018-01-01 23:30:00  0.816031\n",
       "...                       ...\n",
       "2018-01-06 22:45:00  0.310997\n",
       "2018-01-06 22:50:00  0.602746\n",
       "2018-01-06 22:55:00  0.333001\n",
       "2018-01-06 23:00:00 -0.806774\n",
       "2018-01-06 23:05:00 -0.053616\n",
       "\n",
       "[1440 rows x 1 columns]"
      ]
     },
     "execution_count": 3,
     "metadata": {},
     "output_type": "execute_result"
    }
   ],
   "source": [
    "dfsta"
   ]
  },
  {
   "cell_type": "code",
   "execution_count": 4,
   "metadata": {
    "scrolled": true
   },
   "outputs": [
    {
     "data": {
      "text/html": [
       "<table class=\"simpletable\">\n",
       "<caption>SARIMAX Results</caption>\n",
       "<tr>\n",
       "  <th>Dep. Variable:</th>       <td>Pression</td>     <th>  No. Observations:  </th>   <td>1440</td>   \n",
       "</tr>\n",
       "<tr>\n",
       "  <th>Model:</th>            <td>ARIMA(2, 0, 2)</td>  <th>  Log Likelihood     </th> <td>-2020.084</td>\n",
       "</tr>\n",
       "<tr>\n",
       "  <th>Date:</th>            <td>Wed, 01 Mar 2023</td> <th>  AIC                </th> <td>4052.168</td> \n",
       "</tr>\n",
       "<tr>\n",
       "  <th>Time:</th>                <td>21:25:28</td>     <th>  BIC                </th> <td>4083.802</td> \n",
       "</tr>\n",
       "<tr>\n",
       "  <th>Sample:</th>             <td>01-01-2018</td>    <th>  HQIC               </th> <td>4063.977</td> \n",
       "</tr>\n",
       "<tr>\n",
       "  <th></th>                   <td>- 01-06-2018</td>   <th>                     </th>     <td> </td>    \n",
       "</tr>\n",
       "<tr>\n",
       "  <th>Covariance Type:</th>        <td>opg</td>       <th>                     </th>     <td> </td>    \n",
       "</tr>\n",
       "</table>\n",
       "<table class=\"simpletable\">\n",
       "<tr>\n",
       "     <td></td>       <th>coef</th>     <th>std err</th>      <th>z</th>      <th>P>|z|</th>  <th>[0.025</th>    <th>0.975]</th>  \n",
       "</tr>\n",
       "<tr>\n",
       "  <th>const</th>  <td>   -0.0451</td> <td>    0.104</td> <td>   -0.435</td> <td> 0.664</td> <td>   -0.248</td> <td>    0.158</td>\n",
       "</tr>\n",
       "<tr>\n",
       "  <th>ar.L1</th>  <td>    0.6583</td> <td>    0.063</td> <td>   10.480</td> <td> 0.000</td> <td>    0.535</td> <td>    0.781</td>\n",
       "</tr>\n",
       "<tr>\n",
       "  <th>ar.L2</th>  <td>   -0.1999</td> <td>    0.050</td> <td>   -3.961</td> <td> 0.000</td> <td>   -0.299</td> <td>   -0.101</td>\n",
       "</tr>\n",
       "<tr>\n",
       "  <th>ma.L1</th>  <td>    0.7389</td> <td>    0.059</td> <td>   12.593</td> <td> 0.000</td> <td>    0.624</td> <td>    0.854</td>\n",
       "</tr>\n",
       "<tr>\n",
       "  <th>ma.L2</th>  <td>    0.4094</td> <td>    0.041</td> <td>    9.987</td> <td> 0.000</td> <td>    0.329</td> <td>    0.490</td>\n",
       "</tr>\n",
       "<tr>\n",
       "  <th>sigma2</th> <td>    0.9669</td> <td>    0.035</td> <td>   27.662</td> <td> 0.000</td> <td>    0.898</td> <td>    1.035</td>\n",
       "</tr>\n",
       "</table>\n",
       "<table class=\"simpletable\">\n",
       "<tr>\n",
       "  <th>Ljung-Box (L1) (Q):</th>     <td>0.00</td> <th>  Jarque-Bera (JB):  </th> <td>6.45</td>\n",
       "</tr>\n",
       "<tr>\n",
       "  <th>Prob(Q):</th>                <td>1.00</td> <th>  Prob(JB):          </th> <td>0.04</td>\n",
       "</tr>\n",
       "<tr>\n",
       "  <th>Heteroskedasticity (H):</th> <td>0.95</td> <th>  Skew:              </th> <td>0.14</td>\n",
       "</tr>\n",
       "<tr>\n",
       "  <th>Prob(H) (two-sided):</th>    <td>0.60</td> <th>  Kurtosis:          </th> <td>3.17</td>\n",
       "</tr>\n",
       "</table><br/><br/>Warnings:<br/>[1] Covariance matrix calculated using the outer product of gradients (complex-step)."
      ],
      "text/plain": [
       "<class 'statsmodels.iolib.summary.Summary'>\n",
       "\"\"\"\n",
       "                               SARIMAX Results                                \n",
       "==============================================================================\n",
       "Dep. Variable:               Pression   No. Observations:                 1440\n",
       "Model:                 ARIMA(2, 0, 2)   Log Likelihood               -2020.084\n",
       "Date:                Wed, 01 Mar 2023   AIC                           4052.168\n",
       "Time:                        21:25:28   BIC                           4083.802\n",
       "Sample:                    01-01-2018   HQIC                          4063.977\n",
       "                         - 01-06-2018                                         \n",
       "Covariance Type:                  opg                                         \n",
       "==============================================================================\n",
       "                 coef    std err          z      P>|z|      [0.025      0.975]\n",
       "------------------------------------------------------------------------------\n",
       "const         -0.0451      0.104     -0.435      0.664      -0.248       0.158\n",
       "ar.L1          0.6583      0.063     10.480      0.000       0.535       0.781\n",
       "ar.L2         -0.1999      0.050     -3.961      0.000      -0.299      -0.101\n",
       "ma.L1          0.7389      0.059     12.593      0.000       0.624       0.854\n",
       "ma.L2          0.4094      0.041      9.987      0.000       0.329       0.490\n",
       "sigma2         0.9669      0.035     27.662      0.000       0.898       1.035\n",
       "===================================================================================\n",
       "Ljung-Box (L1) (Q):                   0.00   Jarque-Bera (JB):                 6.45\n",
       "Prob(Q):                              1.00   Prob(JB):                         0.04\n",
       "Heteroskedasticity (H):               0.95   Skew:                             0.14\n",
       "Prob(H) (two-sided):                  0.60   Kurtosis:                         3.17\n",
       "===================================================================================\n",
       "\n",
       "Warnings:\n",
       "[1] Covariance matrix calculated using the outer product of gradients (complex-step).\n",
       "\"\"\""
      ]
     },
     "execution_count": 4,
     "metadata": {},
     "output_type": "execute_result"
    }
   ],
   "source": [
    "result= ARIMA(dfsta, order=(2,0,2)).fit()\n",
    "result.summary()"
   ]
  },
  {
   "cell_type": "markdown",
   "metadata": {},
   "source": [
    "# Interprétation des résultats du modèle ARMA"
   ]
  },
  {
   "cell_type": "markdown",
   "metadata": {},
   "source": [
    "Voyons d'abord les résultats généraux."
   ]
  },
  {
   "cell_type": "markdown",
   "metadata": {},
   "source": [
    "## Modèle\n",
    "Il s'agit d'une référence au modèle utilisé. ARMA(2,2) fait référence au modèle autorégressif (AR), le modèle de moyenne mobile (MA). Les chiffres entre parenthèses font référence aux décalages particuliers que votre modèle utilise. Dans ce cas, nous utilisons le modèle ARMA, qui prend les valeurs de 2 et 2 pour 'p' (autorégression) et 'q' (moyenne mobile). Les résultats suivants se rapporteront à cette combinaison particulière. Si vous souhaitez en savoir plus sur ces valeurs, cette vidéo est idéale pour expliquer les concepts essentiels des modèles ARMA."
   ]
  },
  {
   "cell_type": "markdown",
   "metadata": {},
   "source": [
    "# Méthode\n",
    "Ce champ vous indique quel calcul a été utilisé pour définir les paramètres. Il existe différentes méthodes pour estimer les paramètres, telles que la procédure de Yule Walker, la méthode des moments ou l'estimation du maximum de vraisemblance (MLE). Ce champ nous montre quelle méthode a été utilisée pour calculer les paramètres. Dans notre cas, « css-mle » signifie « somme des carrés conditionnelle » et « estimation du maximum de vraisemblance"
   ]
  },
  {
   "cell_type": "markdown",
   "metadata": {},
   "source": [
    "## Log-vraisemblance\n",
    "La valeur de log-vraisemblance est une représentation plus simple de l'estimation du maximum de vraisemblance. Il est créé en prenant les journaux de la valeur précédente. Cette valeur en elle-même n'a pas de sens, mais elle peut être utile si vous comparez plusieurs modèles les uns aux autres. De manière générale, plus la log-vraisemblance est élevée, mieux c'est. Cependant, elle ne doit pas être la seule métrique de référence pour comparer vos modèles !\n"
   ]
  },
  {
   "cell_type": "markdown",
   "metadata": {},
   "source": [
    "# AIC\n",
    "AIC signifie critère d'information d'Akaike. C'est une métrique qui vous aide à évaluer la force de votre modèle. Il prend en compte les résultats de votre maximum de vraisemblance ainsi que le nombre total de vos paramètres. Étant donné que l'ajout de plus de paramètres à votre modèle augmentera toujours votre valeur de probabilité maximale, l'AIC équilibre cela en pénalisant pour le nombre de paramètres, recherchant ainsi des modèles avec peu de paramètres mais ajustant bien les données. Regarder les modèles avec l'AIC le plus bas est un bon moyen de choisir le meilleur ! Plus cette valeur est faible, meilleures sont les performances du modèle."
   ]
  },
  {
   "cell_type": "markdown",
   "metadata": {},
   "source": [
    "## BIC\n",
    "BIC (Bayesian Information Criterion) est très similaire à AIC, mais prend également en compte le nombre de lignes de votre ensemble de données. Encore une fois, plus votre BIC est bas, mieux votre modèle fonctionne. Le BIC induit une pénalisation plus élevée pour les modèles avec des paramètres compliqués par rapport à l'AIC.\n",
    "BIC et AIC sont tous deux d'excellentes valeurs à utiliser pour la sélection des fonctionnalités, car ils vous aident à trouver la version la plus simple avec les résultats les plus fiables en même temps."
   ]
  },
  {
   "cell_type": "markdown",
   "metadata": {},
   "source": [
    "# HQIC\n",
    "HQIC signifie critère d'information de Hannan-Quinn qui peut également être utilisé pour la sélection de caractéristiques. Celui-ci n'est pas utilisé aussi fréquemment que BIC ou AIC."
   ]
  },
  {
   "cell_type": "raw",
   "metadata": {},
   "source": [
    "Regardons maintenant le tableau des coefficients."
   ]
  },
  {
   "cell_type": "markdown",
   "metadata": {},
   "source": [
    "***La colonne « coef »*** représente l'importance de chaque caractéristique.\n",
    "- ar.L1 désigne le terme autorégressif avec le décalage de 1, \n",
    "- ar.L2 représente le même, mais avec le décalage de 2.\n",
    "- ma.L1 et ma.L2 font référence aux termes de « moyenne mobile » avec un décalage de 1 et 2. \n",
    "Tous ces coefficients font partie de l'équation ARMA ci-dessous. Cet exemple est un modèle du second ordre. Plus le nombre de décalages que vous utilisez dans votre modèle est élevé, plus l'équation sera longue.\n"
   ]
  },
  {
   "cell_type": "markdown",
   "metadata": {},
   "source": [
    "- ***Les colonnes ' std err '*** sont une estimation de l'erreur de la valeur prédite. Il vous indique la force de l'effet de l'erreur résiduelle sur vos paramètres estimés (la première colonne).\n",
    "- ***Le « z »*** est égal aux valeurs de « coef » divisées par « std err ». Il s'agit donc du coefficient standardisé.\n",
    "- ***Le P>|z|*** colonne est la valeur p du coefficient. Il est très important de vérifier ces valeurs de p avant de continuer à utiliser le modèle. Si l'une de ces valeurs est supérieure à votre seuil donné (généralement 0,05), vous utilisez peut-être un coefficient peu fiable qui peut entraîner des résultats trompeurs. Dans notre exemple, toutes les valeurs de p sont inférieures à 0,05, ce modèle semble donc prêt à l'emploi !\n",
    "- Les deux dernières colonnes représentent les intervalles de confiance. J'ai écrit sur les intervalles de confiance dans mon dernier article de blog ! En termes simples, ces valeurs sont la valeur du coefficient moins (colonne de gauche) et plus (colonne de droite) la marge d'erreur donnée.\n",
    "Plus de ressources:"
   ]
  },
  {
   "cell_type": "markdown",
   "metadata": {},
   "source": [
    "# Prediction"
   ]
  },
  {
   "cell_type": "markdown",
   "metadata": {},
   "source": [
    "https://www.statsmodels.org/0.8.0/generated/statsmodels.tsa.arima_model.ARMA.predict.html"
   ]
  },
  {
   "cell_type": "code",
   "execution_count": 6,
   "metadata": {},
   "outputs": [
    {
     "data": {
      "text/plain": [
       "Timestamp('2018-01-06 23:05:00')"
      ]
     },
     "execution_count": 6,
     "metadata": {},
     "output_type": "execute_result"
    }
   ],
   "source": [
    "End=dfsta.index[-1]\n",
    "End"
   ]
  },
  {
   "cell_type": "code",
   "execution_count": 7,
   "metadata": {},
   "outputs": [
    {
     "data": {
      "text/plain": [
       "datetime.timedelta(days=5, seconds=29127)"
      ]
     },
     "execution_count": 7,
     "metadata": {},
     "output_type": "execute_result"
    }
   ],
   "source": [
    "from datetime import timedelta\n",
    ">>> delta = timedelta(\n",
    "...     days=5,\n",
    "...     seconds=27,\n",
    "...     minutes=5,\n",
    "...     hours=8,\n",
    "... )\n",
    ">>> # Only days, seconds, and microseconds remain\n",
    ">>> delta"
   ]
  },
  {
   "cell_type": "code",
   "execution_count": 8,
   "metadata": {},
   "outputs": [],
   "source": [
    "Horizon=End+delta"
   ]
  },
  {
   "cell_type": "code",
   "execution_count": 9,
   "metadata": {
    "scrolled": true
   },
   "outputs": [
    {
     "data": {
      "text/plain": [
       "2018-01-12 07:15:00   -0.045083\n",
       "Freq: 5T, dtype: float64"
      ]
     },
     "execution_count": 9,
     "metadata": {},
     "output_type": "execute_result"
    }
   ],
   "source": [
    "result.predict(Horizon)"
   ]
  },
  {
   "cell_type": "code",
   "execution_count": 10,
   "metadata": {},
   "outputs": [
    {
     "data": {
      "text/html": [
       "<table class=\"simpletable\">\n",
       "<caption>SARIMAX Results</caption>\n",
       "<tr>\n",
       "  <th>Dep. Variable:</th>       <td>Pression</td>     <th>  No. Observations:  </th>   <td>1440</td>   \n",
       "</tr>\n",
       "<tr>\n",
       "  <th>Model:</th>            <td>ARIMA(2, 0, 2)</td>  <th>  Log Likelihood     </th> <td>-2020.084</td>\n",
       "</tr>\n",
       "<tr>\n",
       "  <th>Date:</th>            <td>Wed, 01 Mar 2023</td> <th>  AIC                </th> <td>4052.168</td> \n",
       "</tr>\n",
       "<tr>\n",
       "  <th>Time:</th>                <td>21:26:02</td>     <th>  BIC                </th> <td>4083.802</td> \n",
       "</tr>\n",
       "<tr>\n",
       "  <th>Sample:</th>             <td>01-01-2018</td>    <th>  HQIC               </th> <td>4063.977</td> \n",
       "</tr>\n",
       "<tr>\n",
       "  <th></th>                   <td>- 01-06-2018</td>   <th>                     </th>     <td> </td>    \n",
       "</tr>\n",
       "<tr>\n",
       "  <th>Covariance Type:</th>        <td>opg</td>       <th>                     </th>     <td> </td>    \n",
       "</tr>\n",
       "</table>\n",
       "<table class=\"simpletable\">\n",
       "<tr>\n",
       "     <td></td>       <th>coef</th>     <th>std err</th>      <th>z</th>      <th>P>|z|</th>  <th>[0.025</th>    <th>0.975]</th>  \n",
       "</tr>\n",
       "<tr>\n",
       "  <th>const</th>  <td>   -0.0451</td> <td>    0.104</td> <td>   -0.435</td> <td> 0.664</td> <td>   -0.248</td> <td>    0.158</td>\n",
       "</tr>\n",
       "<tr>\n",
       "  <th>ar.L1</th>  <td>    0.6583</td> <td>    0.063</td> <td>   10.480</td> <td> 0.000</td> <td>    0.535</td> <td>    0.781</td>\n",
       "</tr>\n",
       "<tr>\n",
       "  <th>ar.L2</th>  <td>   -0.1999</td> <td>    0.050</td> <td>   -3.961</td> <td> 0.000</td> <td>   -0.299</td> <td>   -0.101</td>\n",
       "</tr>\n",
       "<tr>\n",
       "  <th>ma.L1</th>  <td>    0.7389</td> <td>    0.059</td> <td>   12.593</td> <td> 0.000</td> <td>    0.624</td> <td>    0.854</td>\n",
       "</tr>\n",
       "<tr>\n",
       "  <th>ma.L2</th>  <td>    0.4094</td> <td>    0.041</td> <td>    9.987</td> <td> 0.000</td> <td>    0.329</td> <td>    0.490</td>\n",
       "</tr>\n",
       "<tr>\n",
       "  <th>sigma2</th> <td>    0.9669</td> <td>    0.035</td> <td>   27.662</td> <td> 0.000</td> <td>    0.898</td> <td>    1.035</td>\n",
       "</tr>\n",
       "</table>\n",
       "<table class=\"simpletable\">\n",
       "<tr>\n",
       "  <th>Ljung-Box (L1) (Q):</th>     <td>0.00</td> <th>  Jarque-Bera (JB):  </th> <td>6.45</td>\n",
       "</tr>\n",
       "<tr>\n",
       "  <th>Prob(Q):</th>                <td>1.00</td> <th>  Prob(JB):          </th> <td>0.04</td>\n",
       "</tr>\n",
       "<tr>\n",
       "  <th>Heteroskedasticity (H):</th> <td>0.95</td> <th>  Skew:              </th> <td>0.14</td>\n",
       "</tr>\n",
       "<tr>\n",
       "  <th>Prob(H) (two-sided):</th>    <td>0.60</td> <th>  Kurtosis:          </th> <td>3.17</td>\n",
       "</tr>\n",
       "</table><br/><br/>Warnings:<br/>[1] Covariance matrix calculated using the outer product of gradients (complex-step)."
      ],
      "text/plain": [
       "<class 'statsmodels.iolib.summary.Summary'>\n",
       "\"\"\"\n",
       "                               SARIMAX Results                                \n",
       "==============================================================================\n",
       "Dep. Variable:               Pression   No. Observations:                 1440\n",
       "Model:                 ARIMA(2, 0, 2)   Log Likelihood               -2020.084\n",
       "Date:                Wed, 01 Mar 2023   AIC                           4052.168\n",
       "Time:                        21:26:02   BIC                           4083.802\n",
       "Sample:                    01-01-2018   HQIC                          4063.977\n",
       "                         - 01-06-2018                                         \n",
       "Covariance Type:                  opg                                         \n",
       "==============================================================================\n",
       "                 coef    std err          z      P>|z|      [0.025      0.975]\n",
       "------------------------------------------------------------------------------\n",
       "const         -0.0451      0.104     -0.435      0.664      -0.248       0.158\n",
       "ar.L1          0.6583      0.063     10.480      0.000       0.535       0.781\n",
       "ar.L2         -0.1999      0.050     -3.961      0.000      -0.299      -0.101\n",
       "ma.L1          0.7389      0.059     12.593      0.000       0.624       0.854\n",
       "ma.L2          0.4094      0.041      9.987      0.000       0.329       0.490\n",
       "sigma2         0.9669      0.035     27.662      0.000       0.898       1.035\n",
       "===================================================================================\n",
       "Ljung-Box (L1) (Q):                   0.00   Jarque-Bera (JB):                 6.45\n",
       "Prob(Q):                              1.00   Prob(JB):                         0.04\n",
       "Heteroskedasticity (H):               0.95   Skew:                             0.14\n",
       "Prob(H) (two-sided):                  0.60   Kurtosis:                         3.17\n",
       "===================================================================================\n",
       "\n",
       "Warnings:\n",
       "[1] Covariance matrix calculated using the outer product of gradients (complex-step).\n",
       "\"\"\""
      ]
     },
     "execution_count": 10,
     "metadata": {},
     "output_type": "execute_result"
    }
   ],
   "source": [
    "result.summary()"
   ]
  },
  {
   "cell_type": "code",
   "execution_count": null,
   "metadata": {},
   "outputs": [],
   "source": []
  },
  {
   "cell_type": "code",
   "execution_count": null,
   "metadata": {},
   "outputs": [],
   "source": []
  }
 ],
 "metadata": {
  "kernelspec": {
   "display_name": "GerinatEnvConda",
   "language": "python",
   "name": "gerinatenvconda"
  },
  "language_info": {
   "codemirror_mode": {
    "name": "ipython",
    "version": 3
   },
   "file_extension": ".py",
   "mimetype": "text/x-python",
   "name": "python",
   "nbconvert_exporter": "python",
   "pygments_lexer": "ipython3",
   "version": "3.8.10"
  }
 },
 "nbformat": 4,
 "nbformat_minor": 2
}
