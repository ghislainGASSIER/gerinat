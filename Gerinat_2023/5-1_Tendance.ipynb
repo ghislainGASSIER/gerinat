{
 "cells": [
  {
   "cell_type": "markdown",
   "metadata": {},
   "source": [
    "<hr size=\"4\" color=\"blue\">\n",
    "<p style=\"text-align: center;\"><span style=\"color: #0000ff;\"><font size=\"+5\"><strong> Tendance\n",
    "<hr size=\"4\" color=\"blue\">"
   ]
  },
  {
   "cell_type": "markdown",
   "metadata": {},
   "source": [
    "# Import"
   ]
  },
  {
   "cell_type": "code",
   "execution_count": 18,
   "metadata": {},
   "outputs": [],
   "source": [
    "import numpy as np\n",
    "import pandas as pd\n",
    "import matplotlib.pyplot as plt\n",
    "import locale\n",
    "from datetime import datetime\n",
    "import warnings\n",
    "warnings.simplefilter(\"ignore\")#, UserWarning\n",
    "import datetime\n",
    "%matplotlib inline"
   ]
  },
  {
   "cell_type": "code",
   "execution_count": 17,
   "metadata": {},
   "outputs": [],
   "source": [
    "Names=['Times','Pression']\n",
    "Type ={'Pression': float}#,dtype=Type\n",
    "# Données avec tout les effets + effet\n",
    "dfSimu=pd.read_csv('Data/Simulate/Simulated.csv',header=0,skiprows=0, parse_dates=['Times'],names=Names,index_col=0)\n",
    "# Données avec saisonnalité uniquement\n",
    "dfSea=pd.read_csv('Data/Simulate/SimulatedSeasonality.csv',dtype=Type,header=0,skiprows=0, parse_dates=['Times'],names=Names,index_col=0)\n",
    "# Données stationnaire\n",
    "dfsta=pd.read_csv('Data/Simulate/SimulatedStationnaire.csv',header=0,skiprows=0, parse_dates=['Times'],names=Names,index_col=0)\n",
    "# Donnes avec une tendance\n",
    "dfTrend=pd.read_csv('Data/Simulate/SimulatedTrend.csv',dtype=Type,header=0,skiprows=0, parse_dates=['Times'],names=Names,index_col=0)\n",
    "#Donnees avec trend and saisonalité\n",
    "dfTrendSais=pd.read_csv('Data/Simulate/SimulatedTrendSaisonality.csv',dtype=Type,header=0,skiprows=0, parse_dates=['Times'],names=Names,index_col=0)\n"
   ]
  },
  {
   "cell_type": "code",
   "execution_count": null,
   "metadata": {},
   "outputs": [],
   "source": [
    "Names=['Times','Pression']\n",
    "Type ={'Pression': float}#,dtype=Type\n",
    "# Données avec tout les effets + effet\n",
    "dfSimu=pd.read_csv('Data/Simulate/Simulated.csv',header=0,skiprows=0, parse_dates=['Times'],names=Names,index_col=0)\n",
    "# Données avec saisonnalité uniquement\n",
    "dfSea=pd.read_csv('Data/Simulate/SimulatedSeasonality.csv',dtype=Type,header=0,skiprows=0, parse_dates=['Times'],names=Names,index_col=0)\n",
    "# Données stationnaire\n",
    "dfSta=pd.read_csv('Data/Simulate/SimulatedStationnaire.csv',header=0,skiprows=0, parse_dates=['Times'],names=Names,index_col=0)\n",
    "# Donnes avec une tendance\n",
    "dfTrend=pd.read_csv('Data/Simulate/SimulatedTrend.csv',dtype=Type,header=0,skiprows=0, parse_dates=['Times'],names=Names,index_col=0)\n",
    "#Donnees avec trend and saisonalité\n",
    "dfTrendSais=pd.read_csv('Data/Simulate/SimulatedTrendSaisonality.csv',dtype=Type,header=0,skiprows=0, parse_dates=['Times'],names=Names,index_col=0)\n",
    "# données nettoyer\n",
    "dfSimuClean=pd.read_csv('Data/Simulate/SimulatedClean.csv',dtype=Type,header=0,skiprows=0, parse_dates=['Times'],names=Names,index_col=0)"
   ]
  },
  {
   "cell_type": "markdown",
   "metadata": {},
   "source": [
    "# 1) Présentation"
   ]
  },
  {
   "cell_type": "markdown",
   "metadata": {},
   "source": [
    "<div style=\"border: 2px solid #1EF223; padding: 3px; background-color: #DEFFCD; -moz-border-radius-topleft: 5px; -moz-border-radius-topright: 5px; -moz-border-radius-bottomright: 5px; -moz-border-radius-bottomleft: 5px;\">\n",
    "\n",
    "La tendance est l'orientation générale d'une série d'observations à la hausse ou à la baisse sur une période assez longue. Lorsqu'il n'existe pas d'orientation, on dit qu'il n'y a pas de tendance, ce qui ne signifie évidemment pas que toutes les valeurs sont les mêmes...\n",
    "\n",
    "Rappelons une règle de base pour l’étude de séries temporelle. C'est la décomposition analytique : chronique = tendance + variations périodiques + variations résiduelles aléatoires (+ cycle éventuel."
   ]
  },
  {
   "cell_type": "markdown",
   "metadata": {},
   "source": [
    "On parle de tendance lorsque la série chronologique $x(t)$ peut s’écrire, à une erreur d’ajustement $\\epsilon(t)$ près, comme une combinaison linéaire de m fonctions du temps, choisies a priori (par exemple fonction puissance, exponentielle, logarithmique...) :\n",
    "\n",
    "- la tendance est linéaire ( $m = 1$) et  $f(t) =a_1 (t) +a_0$ \n",
    "Lorsque \n",
    "\\begin{equation}\n",
    "x(t) = a_1 t + a_0 + \\epsilon(t)\n",
    "\\end{equation}\n",
    "\n",
    "- La tendance polynomiale se traduira par \n",
    "\\begin{equation}\n",
    "x(t) = a_n t^n+a_{n-1}+ +  a_1 t + a_0 + \\epsilon(t)\n",
    "\\end{equation}"
   ]
  },
  {
   "cell_type": "markdown",
   "metadata": {},
   "source": [
    "La tendance (trend) est souvent la première chose à détecter lors de l'analyse d'une série temporelle "
   ]
  },
  {
   "cell_type": "markdown",
   "metadata": {},
   "source": [
    "La première étape consiste donc à détecter si une tendance existe. Après observation visuelle du graphique, il est recommandé de procéder à des tests d'hypothèses. On le verra dans la partie 3)."
   ]
  },
  {
   "cell_type": "markdown",
   "metadata": {},
   "source": [
    "# 2) Estimation de la tendance"
   ]
  },
  {
   "cell_type": "markdown",
   "metadata": {},
   "source": [
    "Plaçons nous le cadre d'un modèle déterministe.(Au contraire de probabilistique)\n",
    " \n",
    " \n",
    " ## 2.1) Moyenne mobile\n",
    "Lavtendance peut aussi être estimée par des moyennes mobiles (MM), qui ont le défaut de ne pas donneer lieu à une expression algébrique mais à une série de valeurs filtrées à partir de laquelle on pourra déterminée f.\n",
    "Le choix de la taille de la fenêtre est assez délicat. En effet, elle est fonction de la durée d'une période (c'est l'ordre de la MM) qui est inconnu....Les MM ne  permettent pas d'obtenir une tendance pure, celle-ci étant mélangée à une composante cyclique."
   ]
  },
  {
   "cell_type": "code",
   "execution_count": 18,
   "metadata": {},
   "outputs": [
    {
     "data": {
      "text/plain": [
       "<AxesSubplot:xlabel='Times'>"
      ]
     },
     "execution_count": 18,
     "metadata": {},
     "output_type": "execute_result"
    },
    {
     "data": {
      "image/png": "[encoded data removed]",
      "text/plain": [
       "<Figure size 432x288 with 1 Axes>"
      ]
     },
     "metadata": {
      "needs_background": "light"
     },
     "output_type": "display_data"
    }
   ],
   "source": [
    "dfTr=dfTrendSais.rolling(96).mean()\n",
    "dfTr.plot()"
   ]
  },
  {
   "cell_type": "markdown",
   "metadata": {},
   "source": [
    "## 2.1) Méthodes analytique ( Régression linéaire)\n",
    "\n",
    "La méthode analytique d’estimation de tendance repose sur des fondements théoriques mais aussi sur des choix : détermination a priori du modèle de tendance (fonction linéaire ou exponentielle du temps, par exemple) et d’un schéma de décomposition additif ou multiplicatif qui permet d'isoler au mieux la composante saisonnière. Il existe bien sûr des moyens d’évaluer la qualité du modèle obtenu.L’avantage de résumer une tendance par une équation est toutefois évident : ***les prévisions*** sont assez faciles à établir, et pas seulement en t + 1."
   ]
  },
  {
   "cell_type": "markdown",
   "metadata": {},
   "source": [
    "On va supposer ici la tendance linéaire. Elle est alors formalisée par la droite de régression linéaire entre l’unité de mesure du temps t (t = 1, 2, 3…) et y (pression).\n",
    "\n",
    "***Remarque :*** \n",
    "Le coefficient de corrélation associé à cette régression est peut-être tout petit mais c’est normal si les fluctuations saisonnières sont importantes. C’est l'une des raisons pour laquelle les prévisionnistes procèdent à la régression sur moyennes annuelles ou sur la série filtrée par moyennes mobiles."
   ]
  },
  {
   "cell_type": "markdown",
   "metadata": {},
   "source": [
    "http://www.jybaudot.fr/Previsions/trend.html\n",
    "\n",
    "http://www.jybaudot.fr/Previsions/anovachro.html"
   ]
  },
  {
   "cell_type": "markdown",
   "metadata": {},
   "source": [
    "Avant de se lancer tête baissée dans une désaisonnalisation, il faut peut-être se demander si celle-ci est vraiment nécessaire. Idem avant de convenir ou non qu’il existe une tendance. Donc, en amont de l’analyse d’une série chronologique, nous allons procéder à deux tests probatoires."
   ]
  },
  {
   "cell_type": "markdown",
   "metadata": {},
   "source": [
    "La tendance (trend) est souvent la première chose à détecter lors de l'analyse d'une série temporelle.\n",
    "La tendance est l'orientation générale d'une série d'observations à la hausse ou à la baisse sur une période assez longue. Lorsqu'il n'existe pas d'orientation, on dit qu'il n'y a pas de tendance, ce qui ne signifie évidemment pas que toutes les valeurs sont les mêmes..."
   ]
  },
  {
   "cell_type": "markdown",
   "metadata": {},
   "source": [
    "<div style=\"border: 2px solid #C0392B; padding: 3px; background-color: #E6B0AA; -moz-border-radius-topleft: 5px; -moz-border-radius-topright: 5px; -moz-border-radius-bottomright: 5px; -moz-border-radius-bottomleft: 5px;\">\n",
    "   \n",
    "   la décomposition analytique : chronique = tendance + variations périodiques + variations résiduelles aléatoires (+ cycle économique éventuel). "
   ]
  },
  {
   "cell_type": "markdown",
   "metadata": {},
   "source": [
    "\n",
    "La page que vous avez la chance d’avoir sous les yeux étudie la composante « tendance » dans les cas où celle-ci est estimée par une fonction f(t), avec une unité de mesure temporelle t = 1, 2, 3… Comme on suppose que la série est fonction du temps, nous sommes dans le cadre d'un modèle déterministe. "
   ]
  },
  {
   "cell_type": "markdown",
   "metadata": {},
   "source": [
    "<div style=\"border: 2px solid #C0392B; padding: 3px; background-color: #E6B0AA; -moz-border-radius-topleft: 5px; -moz-border-radius-topright: 5px; -moz-border-radius-bottomright: 5px; -moz-border-radius-bottomleft: 5px;\">\n",
    "    \n",
    " La première étape consiste donc à détecter si une tendance existe.Après ***observation visuelle du graphique**, il est recommandé de ***tester les moyennes annuelles (ou autre période englobant d'éventuels mouvements saisonniers)***"
   ]
  },
  {
   "cell_type": "markdown",
   "metadata": {},
   "source": [
    "# 3)Test d'hypothèses Mann-Kendall"
   ]
  },
  {
   "cell_type": "markdown",
   "metadata": {},
   "source": [
    "\n",
    "Le test, non paramétrique, de Mann-Kendall sert à déterminer si une tendance est identifiable dans une série temporelle qui comprend éventuellement une composante saisonnière.\n",
    "\n",
    "***L'hypothèse nulle H0 de ces tests est qu'il n'y a pas de tendance.***"
   ]
  },
  {
   "cell_type": "markdown",
   "metadata": {},
   "source": [
    "https://pypi.org/project/pymannkendall/"
   ]
  },
  {
   "cell_type": "code",
   "execution_count": 16,
   "metadata": {},
   "outputs": [
    {
     "name": "stdout",
     "output_type": "stream",
     "text": [
      "Mann_Kendall_Test(trend='no trend', h=False, p=0.9816571200011597, z=-0.02299141622480199, Tau=-0.00040537410238591616, s=-420.0, var_s=332121200.0, slope=-3.055853972115023e-06, intercept=-0.05479313654894704)\n",
      "-3.055853972115023e-06\n"
     ]
    },
    {
     "data": {
      "text/plain": [
       "0.9816571200011597"
      ]
     },
     "execution_count": 16,
     "metadata": {},
     "output_type": "execute_result"
    }
   ],
   "source": [
    "\n",
    "import pymannkendall as mk\n",
    "result = mk.original_test(dfSta['Pression'])\n",
    "print(result)\n",
    "print(result.slope)\n",
    "trend, h, p, z, Tau, s, var_s, slope, intercept = mk.original_test(dfSta['Pression'])\n",
    "p"
   ]
  },
  {
   "cell_type": "markdown",
   "metadata": {},
   "source": [
    "# Régression linéaire "
   ]
  },
  {
   "cell_type": "code",
   "execution_count": 20,
   "metadata": {},
   "outputs": [
    {
     "name": "stdout",
     "output_type": "stream",
     "text": [
      "[1.99984574e-05 2.98655589e+00]\n"
     ]
    },
    {
     "data": {
      "text/plain": [
       "[<matplotlib.lines.Line2D at 0x7fa190a1aeb0>]"
      ]
     },
     "execution_count": 20,
     "metadata": {},
     "output_type": "execute_result"
    },
    {
     "data": {
      "image/png": "[encoded data removed]",
      "text/plain": [
       "<Figure size 432x288 with 1 Axes>"
      ]
     },
     "metadata": {
      "needs_background": "light"
     },
     "output_type": "display_data"
    }
   ],
   "source": [
    "PeriodeRef=3600*24 #seconde\n",
    "CycleParPeriode=3\n",
    "Te=5*60 # seconde\n",
    "Ne= 5*int(PeriodeRef/Te)\n",
    "x=np.arange(Ne*Te,step=Te)\n",
    "y =dfTrend.values[:,0]\n",
    "Res=np.polyfit(x,y,1,full=True)\n",
    "z=Res[0]\n",
    "print(z)\n",
    "p = np.poly1d(z)\n",
    "plt.plot(p(x))"
   ]
  },
  {
   "cell_type": "code",
   "execution_count": 56,
   "metadata": {},
   "outputs": [
    {
     "name": "stdout",
     "output_type": "stream",
     "text": [
      "[1.99984574e-05 2.98655589e+00]\n"
     ]
    }
   ],
   "source": [
    "x=np.arange(Ne*Te,step=Te)\n",
    "y =dfTrend.values[:,0]\n",
    "Res=np.polyfit(x,y,1,full=True)\n",
    "z=Res[0]\n",
    "print(z)\n",
    "p = np.poly1d(z)"
   ]
  },
  {
   "cell_type": "code",
   "execution_count": 64,
   "metadata": {},
   "outputs": [
    {
     "data": {
      "text/plain": [
       "(array([1.99984574e-05, 2.98655589e+00]),\n",
       " array([558.6172182]),\n",
       " 2,\n",
       " array([1.36597035, 0.36623082]),\n",
       " 3.197442310920451e-13)"
      ]
     },
     "execution_count": 64,
     "metadata": {},
     "output_type": "execute_result"
    }
   ],
   "source": [
    "Res"
   ]
  },
  {
   "cell_type": "code",
   "execution_count": 58,
   "metadata": {},
   "outputs": [
    {
     "name": "stdout",
     "output_type": "stream",
     "text": [
      "[0.38846816]\n"
     ]
    }
   ],
   "source": [
    "chisq_dof= Res[1] / (y.shape[0]- 2)\n",
    "print(chisq_dof)"
   ]
  },
  {
   "cell_type": "code",
   "execution_count": null,
   "metadata": {},
   "outputs": [],
   "source": [
    "d=y-p(x)\n",
    "plt.plot(d)\n",
    "Res"
   ]
  },
  {
   "cell_type": "code",
   "execution_count": 52,
   "metadata": {},
   "outputs": [
    {
     "data": {
      "text/plain": [
       "(array([1.99984574e-05, 2.98655589e+00]),\n",
       " array([558.6172182]),\n",
       " 2,\n",
       " array([1.36597035, 0.36623082]),\n",
       " 3.197442310920451e-13)"
      ]
     },
     "execution_count": 52,
     "metadata": {},
     "output_type": "execute_result"
    }
   ],
   "source": [
    "Res"
   ]
  },
  {
   "cell_type": "code",
   "execution_count": 41,
   "metadata": {},
   "outputs": [
    {
     "data": {
      "image/png": "[encoded data removed]",
      "text/plain": [
       "<Figure size 432x288 with 1 Axes>"
      ]
     },
     "metadata": {
      "needs_background": "light"
     },
     "output_type": "display_data"
    }
   ],
   "source": [
    "fig, ax = plt.subplots()\n",
    "\n",
    "ax.plot(y,label='serie non stationnaire')\n",
    "ax.plot(y-p(x),label= 'serie stationnaire par RL')\n",
    "ax.plot(p(x),label='regression linéaire',color='r')\n",
    "ax.set(xlabel='index', ylabel='voltage (mV)',\n",
    "       title='Stationnarisation d une série par régression linéaire')\n",
    "plt.legend()\n",
    "\n",
    "fig.savefig(\"plot_Detrend_RL.png\")\n",
    "plt.show()"
   ]
  },
  {
   "cell_type": "code",
   "execution_count": 48,
   "metadata": {},
   "outputs": [],
   "source": [
    "resDetrend=y-p(x)\n",
    "df=pd.DataFrame([resDetrend])\n"
   ]
  },
  {
   "cell_type": "code",
   "execution_count": 66,
   "metadata": {},
   "outputs": [
    {
     "name": "stdout",
     "output_type": "stream",
     "text": [
      "a =  1.999845737440896e-05  b =  2.9865558856028063  r^2 =  0.9412920157434133\n"
     ]
    }
   ],
   "source": [
    "from scipy.stats import linregress\n",
    "a, b, r, p_vall, std_err = linregress(x, y)\n",
    "print(\"a = \", a, \" b = \", b, \" r^2 = \", r**2)\n"
   ]
  },
  {
   "cell_type": "code",
   "execution_count": 50,
   "metadata": {},
   "outputs": [
    {
     "name": "stdout",
     "output_type": "stream",
     "text": [
      "Mann_Kendall_Test(trend='increasing', h=True, p=0.0, z=48.40132092241579, Tau=0.851358968419427, s=882076.0, var_s=332121200.0, slope=0.005999083243808367, intercept=2.990933086252186)\n"
     ]
    }
   ],
   "source": [
    "\n",
    "import pymannkendall as mk\n",
    "result = mk.original_test(dfTrend['Pression'])\n",
    "print(result)\n"
   ]
  },
  {
   "cell_type": "code",
   "execution_count": 51,
   "metadata": {},
   "outputs": [
    {
     "name": "stdout",
     "output_type": "stream",
     "text": [
      "Mann_Kendall_Test(trend='no trend', h=False, p=0.9902369438400935, z=-0.012236481666183399, Tau=-0.00021619952127248862, s=-224.0, var_s=332121200.0, slope=-4.5396851432276375e-07, intercept=-0.002868411106940311)\n"
     ]
    }
   ],
   "source": [
    "\n",
    "import pymannkendall as mk\n",
    "result = mk.original_test(resDetrend)\n",
    "print(result)\n"
   ]
  },
  {
   "cell_type": "code",
   "execution_count": null,
   "metadata": {},
   "outputs": [],
   "source": [
    "p, residuals, _, _, _ = numpy.polyfit(x, y, 2, full=True)\n",
    "chisq_dof = residuals / (len(x) - 3)\n",
    "Q"
   ]
  },
  {
   "cell_type": "code",
   "execution_count": null,
   "metadata": {},
   "outputs": [],
   "source": []
  },
  {
   "cell_type": "markdown",
   "metadata": {},
   "source": [
    "https://docs.scipy.org/doc/scipy/reference/generated/scipy.signal.detrend.html"
   ]
  },
  {
   "cell_type": "code",
   "execution_count": 21,
   "metadata": {
    "scrolled": true
   },
   "outputs": [
    {
     "data": {
      "text/plain": [
       "[<matplotlib.lines.Line2D at 0x7ffa47a1aa50>]"
      ]
     },
     "execution_count": 21,
     "metadata": {},
     "output_type": "execute_result"
    },
    {
     "data": {
      "image/png": "[encoded data removed]",
      "text/plain": [
       "<Figure size 432x288 with 1 Axes>"
      ]
     },
     "metadata": {
      "needs_background": "light"
     },
     "output_type": "display_data"
    }
   ],
   "source": [
    "from scipy import signal\n",
    "DeTrend=signal.detrend(dfTrend.values[:,0])\n",
    "plt.plot(DeTrend)"
   ]
  },
  {
   "cell_type": "markdown",
   "metadata": {},
   "source": [
    "https://numpy.org/doc/stable/reference/generated/numpy.polyfit.html"
   ]
  },
  {
   "cell_type": "code",
   "execution_count": 22,
   "metadata": {
    "scrolled": true
   },
   "outputs": [
    {
     "data": {
      "text/plain": [
       "[<matplotlib.lines.Line2D at 0x7ffa477cc0d0>]"
      ]
     },
     "execution_count": 22,
     "metadata": {},
     "output_type": "execute_result"
    },
    {
     "data": {
      "image/png": "[encoded data removed]",
      "text/plain": [
       "<Figure size 432x288 with 1 Axes>"
      ]
     },
     "metadata": {
      "needs_background": "light"
     },
     "output_type": "display_data"
    }
   ],
   "source": [
    "from statsmodels.tsa.tsatools import detrend\n",
    "notrend = detrend(dfTrend.values[:,0])\n",
    "plt.plot(notrend)\n"
   ]
  },
  {
   "cell_type": "markdown",
   "metadata": {},
   "source": [
    "https://www.pythonfordatascience.org/anova-python/\n",
    "http://www.jybaudot.fr/Previsions/anovachro.html"
   ]
  },
  {
   "cell_type": "markdown",
   "metadata": {},
   "source": [
    "# 4) Courbe de Tendance quelconque"
   ]
  },
  {
   "cell_type": "markdown",
   "metadata": {},
   "source": [
    "https://docs.scipy.org/doc/scipy/reference/generated/scipy.optimize.curve_fit.html"
   ]
  },
  {
   "cell_type": "code",
   "execution_count": 23,
   "metadata": {
    "scrolled": true
   },
   "outputs": [
    {
     "data": {
      "image/png": "[encoded data removed]",
      "text/plain": [
       "<Figure size 432x288 with 1 Axes>"
      ]
     },
     "metadata": {
      "needs_background": "light"
     },
     "output_type": "display_data"
    },
    {
     "data": {
      "text/plain": [
       "array([-2.92750970e-13,  2.01248378e-05,  2.97746912e+00])"
      ]
     },
     "execution_count": 23,
     "metadata": {},
     "output_type": "execute_result"
    }
   ],
   "source": [
    "\n",
    "from scipy.optimize import curve_fit\n",
    "\n",
    "def func(x, a, b, c):\n",
    "    return a*x**2 + b*x + c\n",
    "x=np.arange(Ne*Te,step=Te)\n",
    "yn =dfTrend.values[:,0]\n",
    "popt, pcov = curve_fit(func, x, yn)#, sigma = y_sigma)\n",
    "fig = plt.figure()\n",
    "ax = fig.add_subplot(111)\n",
    "#ax.errorbar(x, yn, yerr = y_sigma, fmt = 'o')\n",
    "ax.plot(x, np.polyval(popt, x), '-')\n",
    "#ax.scatter(x,yn)\n",
    "plt.show()\n",
    "popt"
   ]
  },
  {
   "cell_type": "markdown",
   "metadata": {},
   "source": [
    "<div style=\"border: 2px solid #0000ff; padding: 3px; background-color: #0099FF; -moz-border-radius-topleft: 5px; -moz-border-radius-topright: 5px; -moz-border-radius-bottomright: 5px; -moz-border-radius-bottomleft: 5px;\">\n",
    "\n",
    "# Exercice supplémentaires."
   ]
  },
  {
   "cell_type": "markdown",
   "metadata": {},
   "source": [
    "# ANOVA"
   ]
  },
  {
   "cell_type": "markdown",
   "metadata": {},
   "source": [
    "Préalablement aux ANOVA, procédons aux tests de Levene pour valider l’homoscédasticité. En des termes moins savants, vérifions si la dispersion est à peu près stable au sein d’une même semaine et d’une semaine à l’autre. Rappelons en effet que c’est une condition de validité du test, bien qu’il soit fréquent de faire l’impasse dessus (Note : par manque de place, nous ne procédons pas aux tests de normalité, c’est pourquoi le test de Levene a été privilégié à celui de Barlett, trop sensible aux distributions non normales).\n",
    "\n",
    "Le test ANOVA comporte des hypothèses importantes qui doivent être satisfaites pour pour que la valeur p associée soit valide.\n",
    "1. Les échantillons sont indépendants.\n",
    "2. Chaque échantillon provient d'une population normalement distribuée.\n",
    "3. Les écarts types de population des groupes sont tous égaux. Cette La propriété est connue sous le nom d'homoscédasticité.\n"
   ]
  },
  {
   "cell_type": "markdown",
   "metadata": {},
   "source": [
    "## 1) Test sur les hypothéses d'ANOVA"
   ]
  },
  {
   "cell_type": "markdown",
   "metadata": {},
   "source": [
    "En statistiques, un test, ou test d'hypothèse, est une procédure de décision entre deux hypothèses. Il s'agit d'une démarche consistant à rejeter ou à ne pas rejeter une hypothèse statistique, appelée hypothèse nulle, en fonction d'un échantillon de données.\n",
    "\n",
    "Il s'agit de statistique inférentielle : à partir de calculs réalisés sur des données observées, on émet des conclusions sur la population, en leur rattachant des risques d'être erronées. "
   ]
  },
  {
   "cell_type": "markdown",
   "metadata": {},
   "source": [
    "La p-valeur"
   ]
  },
  {
   "cell_type": "markdown",
   "metadata": {},
   "source": [
    "La procédure généralement employée consiste à comparer la valeur-p à un seuil préalablement défini (traditionnellement 5 %). Si la valeur-p est inférieure à ce seuil, on rejette l'hypothèse nulle en faveur de l’hypothèse alternative, et le résultat du test est déclaré « statistiquement significatif »[1]. Dans le cas contraire, si la valeur-p est supérieure au seuil, on ne rejette pas l’hypothèse nulle, et on ne peut rien conclure quant aux hypothèses formulées. "
   ]
  },
  {
   "cell_type": "markdown",
   "metadata": {},
   "source": [
    "https://fr.m.wikipedia.org/wiki/Valeur_p"
   ]
  },
  {
   "cell_type": "markdown",
   "metadata": {},
   "source": [
    "### 1) Normalité"
   ]
  },
  {
   "cell_type": "markdown",
   "metadata": {},
   "source": [
    "Testez si un échantillon diffère d'une distribution normale.\n",
    "\n",
    "Cette fonction teste l'hypothèse nulle selon laquelle un échantillon provient d'une distribution normale. Il est basé sur le test de D'Agostino et Pearson [1] , [2] qui combine l'asymétrie et l'aplatissement pour produire un test omnibus de normalité."
   ]
  },
  {
   "cell_type": "code",
   "execution_count": 12,
   "metadata": {
    "scrolled": true
   },
   "outputs": [
    {
     "name": "stdout",
     "output_type": "stream",
     "text": [
      "p = 0.234072\n",
      "The null hypothesis cannot be rejected\n"
     ]
    }
   ],
   "source": [
    "import numpy as np\n",
    "from scipy import stats\n",
    "rng = np.random.default_rng()\n",
    "pts = 1000\n",
    "a = rng.normal(0, 1, size=pts)\n",
    "b = rng.normal(2, 1, size=pts)\n",
    "x = np.concatenate((a, b))\n",
    "k2, p = stats.normaltest(a)#x\n",
    "alpha = 1e-3\n",
    "print(\"p = {:g}\".format(p))\n",
    "if p < alpha:  # null hypothesis: x comes from a normal distribution\n",
    "    print(\"The null hypothesis can be rejected\")\n",
    "else:\n",
    "    print(\"The null hypothesis cannot be rejected\")\n"
   ]
  },
  {
   "cell_type": "code",
   "execution_count": 13,
   "metadata": {},
   "outputs": [
    {
     "name": "stdout",
     "output_type": "stream",
     "text": [
      "p = 5.22384e-69\n",
      "The null hypothesis can be rejected\n"
     ]
    }
   ],
   "source": [
    "k2, p = stats.normaltest(dfTrend.values[:,0])#x\n",
    "alpha = 0.05\n",
    "print(\"p = {:g}\".format(p))\n",
    "if p < alpha:  # null hypothesis: x comes from a normal distribution\n",
    "    print(\"The null hypothesis can be rejected\")\n",
    "else:\n",
    "    print(\"The null hypothesis cannot be rejected\")"
   ]
  },
  {
   "cell_type": "markdown",
   "metadata": {},
   "source": [
    "### 3) homoscédasticité"
   ]
  },
  {
   "cell_type": "markdown",
   "metadata": {},
   "source": [
    "En statistique, le Test de Levene est une statistique déductive utilisée pour évaluer l'égalité de variance pour une variable calculée pour deux groupes ou plus1.\n",
    "\n",
    "Certaines procédures statistiques courantes supposent que les variances des populations à partir desquelles différents échantillons sont prélevés sont égales. Le test de Levene évalue cette hypothèse. Il teste l'hypothèse nulle que les variances de population sont égales (appelées « homogénéité de la variance » ou homoscédasticité). Si la valeur p résultante du test de Levene est inférieure à un niveau de signification (typiquement 0,05), il est peu probable que les différences obtenues dans les variances d'échantillon se soient produites sur la base d'un échantillonnage aléatoire d'une population à variances égales. Ainsi, l'hypothèse nulle d'égale variance est rejetée et il est conclu qu'il existe une différence entre les variances dans la population. "
   ]
  },
  {
   "cell_type": "markdown",
   "metadata": {},
   "source": [
    "https://docs.scipy.org/doc/scipy/reference/generated/scipy.stats.levene.html"
   ]
  },
  {
   "cell_type": "markdown",
   "metadata": {},
   "source": [
    "Le test de Levene teste l'hypothèse nulle selon laquelle tous les échantillons d'entrée proviennent de populations à variances égales. Le test de Levene est un alternative au test de Bartlett bartlett dans le cas où il y a des écarts importants par rapport à la normalité. ( a essayer)"
   ]
  },
  {
   "cell_type": "code",
   "execution_count": 37,
   "metadata": {},
   "outputs": [
    {
     "data": {
      "text/plain": [
       "0.002431505967249681"
      ]
     },
     "execution_count": 37,
     "metadata": {},
     "output_type": "execute_result"
    }
   ],
   "source": [
    "from scipy.stats import levene\n",
    "a = [8.88, 9.12, 9.04, 8.98, 9.00, 9.08, 9.01, 8.85, 9.06, 8.99]\n",
    "b = [8.88, 8.95, 9.29, 9.44, 9.15, 9.58, 8.36, 9.18, 8.67, 9.05]\n",
    "c = [8.95, 9.12, 8.95, 8.85, 9.03, 8.84, 9.07, 8.98, 8.86, 8.98]\n",
    "stat, p = levene(a,b,c)#\n",
    "p\n"
   ]
  },
  {
   "cell_type": "code",
   "execution_count": 108,
   "metadata": {},
   "outputs": [],
   "source": [
    "A=dfSta.values[:1000,0]\n",
    "B=dfSta.values[1000:,0]"
   ]
  },
  {
   "cell_type": "markdown",
   "metadata": {},
   "source": [
    "La faible valeur de p suggère que les populations n'ont pas la même écarts. Ce n'est pas surprenant, étant donné que la variance d'échantillon de b est beaucoup plus plus grand que celui de a et c : "
   ]
  },
  {
   "cell_type": "code",
   "execution_count": 109,
   "metadata": {},
   "outputs": [
    {
     "data": {
      "text/plain": [
       "0.9282894309514484"
      ]
     },
     "execution_count": 109,
     "metadata": {},
     "output_type": "execute_result"
    }
   ],
   "source": [
    "stat, p = levene(A,B)#\n",
    "p"
   ]
  },
  {
   "cell_type": "code",
   "execution_count": null,
   "metadata": {},
   "outputs": [],
   "source": [
    "La faible valeur de p suggère que ..."
   ]
  },
  {
   "cell_type": "markdown",
   "metadata": {
    "heading_collapsed": true
   },
   "source": [
    "## 2) Test ANNOVA"
   ]
  },
  {
   "cell_type": "markdown",
   "metadata": {
    "hidden": true
   },
   "source": [
    "L'ANOVA à un facteur teste l'hypothèse nulle selon laquelle deux groupes ou plus ont la même moyenne de population. Le test est appliqué à des échantillons de deux ou plusieurs groupes, éventuellement de tailles différentes. "
   ]
  },
  {
   "cell_type": "code",
   "execution_count": 114,
   "metadata": {
    "hidden": true
   },
   "outputs": [
    {
     "data": {
      "text/plain": [
       "F_onewayResult(statistic=1.1485161676248705, pvalue=0.29975969106602235)"
      ]
     },
     "execution_count": 114,
     "metadata": {},
     "output_type": "execute_result"
    }
   ],
   "source": [
    "from scipy.stats import f_oneway\n",
    "tillamook = [0.0571, 0.0813, 0.0831, 0.0976, 0.0817, 0.0859, 0.0735, 0.0659, 0.0923, 0.0836]\n",
    "newport = [0.0873, 0.0662, 0.0672, 0.0819, 0.0749, 0.0649, 0.0835,0.0725]\n",
    "petersburg = [0.0974, 0.1352, 0.0817, 0.1016, 0.0968, 0.1064, 0.105]\n",
    "magadan = [0.1033, 0.0915, 0.0781, 0.0685, 0.0677, 0.0697, 0.0764,0.0689]\n",
    "tvarminne = [0.0703, 0.1026, 0.0956, 0.0973, 0.1039, 0.1045]\n",
    "\n",
    "f_oneway(tillamook, newport)#, petersburg, magadan, tvarminne"
   ]
  },
  {
   "cell_type": "code",
   "execution_count": 111,
   "metadata": {
    "hidden": true
   },
   "outputs": [],
   "source": [
    "from scipy.stats import f_oneway"
   ]
  },
  {
   "cell_type": "code",
   "execution_count": 118,
   "metadata": {
    "hidden": true
   },
   "outputs": [],
   "source": [
    "A=dfTrend.values[:700,0]\n",
    "B=dfTrend.values[700:,0]"
   ]
  },
  {
   "cell_type": "code",
   "execution_count": 119,
   "metadata": {
    "hidden": true
   },
   "outputs": [
    {
     "data": {
      "text/plain": [
       "F_onewayResult(statistic=1285.811302258495, pvalue=1.0519903685430449e-201)"
      ]
     },
     "execution_count": 119,
     "metadata": {},
     "output_type": "execute_result"
    }
   ],
   "source": [
    "f_oneway(A,B)#, petersburg, magadan, tvarminne"
   ]
  },
  {
   "cell_type": "markdown",
   "metadata": {
    "hidden": true
   },
   "source": [
    "***Choix du type de la fonction f de tendance.*** Dans la mesure où ces derniers vous restituent également les ***coefficients de corrélation***, où vous visualisez la courbe des observations, et surtout dans la mesure où vous connaissez le sujet que vous traitez, vous pouvez ne pas être d’accord avec ce choix et en privilégier un autre.\n",
    "\n",
    "Ne cherchons pas l'originalité : commençons par le plus simple (on se place dans le cadre d’une observation sur plusieurs années)."
   ]
  },
  {
   "cell_type": "code",
   "execution_count": null,
   "metadata": {
    "hidden": true
   },
   "outputs": [],
   "source": []
  },
  {
   "cell_type": "markdown",
   "metadata": {
    "hidden": true
   },
   "source": [
    "Hypothèse : on suppose la tendance linéaire. Elle est alors formalisée par la droite de régression linéaire entre l’unité de mesure du temps t (t = 1, 2, 3…) et y (ventes, appels, achats…). Le coefficient de corrélation est peut-être tout petit mais c’est normal si les fluctuations saisonnières sont importantes (illustration en bas de page). C’est l'une des raisons pour laquelle les prévisionnistes procèdent à la régression sur moyennes annuelles ou sur la série filtrée par moyennes mobiles.\n",
    "\n",
    "A peine moins facile, on SAIT qu’il existe une croissance à taux constant. Avec Excel, et sous réserve de données positives, soit vous créez une colonne des logarithmes de y (fonction LN pour Excel) soit vous travaillez directement sur la fonction exponentielle (voir exemple la page régression sur tendance exponentielle).\n",
    "\n",
    "D’une façon générale, si vous cherchez juste à rattacher une tendance brouillée par de nombreux mouvements à un type de fonction connue, vous pouvez facilement le faire avec Excel, qui calcule des tendances affines, exponentielles, logarithmiques, polynomiales (degré 2 à 6) et puissance : clic droit sur la courbe puis Options de courbe de tendance. Sur un logiciel plus évolué en traitements statistiques, vous bénéficiez de plus d’options, d’intervalles de confiance et d’intervalles de prévision.\n",
    "\n",
    "Enfin, en cas de valeurs aberrantes, il peut être judicieux de les calculer à partir des médianes annuelles (mais la désaisonnalisation nécessitera une petite correction) ou d'employer la méthode de Theil.\n",
    "\n",
    " "
   ]
  },
  {
   "cell_type": "markdown",
   "metadata": {
    "hidden": true
   },
   "source": [
    "Exemple\n",
    "\n",
    "La courbe ci-dessous montre l’évolution du fret aérien des ADP (Aéroports de Paris) entre janvier 82 et décembre 2007 (en millier de tonnes, source INSEE). Elle illustre bien les limites d’un ajustement de la tendance par une fonction. Alors que le trend semblait linéaire depuis 10 ans, celui-ci s’est modifié et apparaît maintenant comme une évolution exponentielle (courbe rouge)… jusqu’au jour où ce modèle sera à son tour invalidé !\n",
    "\n",
    "Fret aérien\n",
    "\n",
    "Les données ci-dessous sont celles de l’indice INSEE de la production industrielle – produits de la construction automobile. La saisonnalité est forte et l'on observe une valeur aberrante (c'est la dernière ; mais disposant d'une série de 72 valeurs, nous considèrons qu'elle n'est pas perturbatrice et nous la maintenons).\n",
    "\n",
    "Exemple\n",
    "\n",
    "Si l’on résume cette évolution par une droite établie sur l’ensemble des valeurs, on obtient un R² = 0,3074 (courbe en rouge). Calculé sur les six moyennes annuelles, il est évidemment beaucoup plus élevé (0,9931). Calculé sur les six médianes, R² = … 1 ( !).\n",
    "\n",
    "Zoom sur prod industrielle"
   ]
  }
 ],
 "metadata": {
  "kernelspec": {
   "display_name": "GerinatEnvConda",
   "language": "python",
   "name": "gerinatenvconda"
  },
  "language_info": {
   "codemirror_mode": {
    "name": "ipython",
    "version": 3
   },
   "file_extension": ".py",
   "mimetype": "text/x-python",
   "name": "python",
   "nbconvert_exporter": "python",
   "pygments_lexer": "ipython3",
   "version": "3.8.10"
  }
 },
 "nbformat": 4,
 "nbformat_minor": 2
}
