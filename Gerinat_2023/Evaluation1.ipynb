{
 "cells": [
  {
   "cell_type": "markdown",
   "metadata": {},
   "source": [
    "<div style=\"border: 2px solid #0000ff; padding: 30px; background-color: #0099FF; -moz-border-radius-topleft: 10px; -moz-border-radius-topright: 20px; -moz-border-radius-bottomright: 50px; -moz-border-radius-bottomleft: 50px;\">\n",
    "    \n",
    "<center>  \n",
    "<font size=\"+8\"><br/>Evaluation<br/>  </font> \n",
    "</center>\n",
    "\n",
    "</div>"
   ]
  },
  {
   "cell_type": "code",
   "execution_count": null,
   "metadata": {},
   "outputs": [],
   "source": [
    "rep=\"Data/Simulate/SimulatedEval1.csv\""
   ]
  },
  {
   "cell_type": "markdown",
   "metadata": {},
   "source": [
    "# 1. Représentez la série temporelle\n",
    "# 2. Nettoyez la série temporelle\n",
    "## a. Supprimez les nan\n",
    "## b. Supprimez les outlier\n",
    "# 3. Tendance\n",
    "## a. Donnez la pente et l'ordonnée à l'origine\n",
    "## b. Predisez la valeur (tendancielle) de la pression pour le 7 janvier.\n",
    "# 4. Saisonnalité.\n",
    "## a. Donnez une estimation de la fréquence\n",
    "## b. Prédisez la valeur (saisonniére) de la pression pour le 7 janvier (sachant que la phase est égale à 0).\n",
    "# 5. Appliquez un modéle ARMA et argumentez le choix des paramétres.\n"
   ]
  },
  {
   "cell_type": "code",
   "execution_count": null,
   "metadata": {},
   "outputs": [],
   "source": []
  }
 ],
 "metadata": {
  "kernelspec": {
   "display_name": "GerinatEnvConda",
   "language": "python",
   "name": "gerinatenvconda"
  },
  "language_info": {
   "codemirror_mode": {
    "name": "ipython",
    "version": 3
   },
   "file_extension": ".py",
   "mimetype": "text/x-python",
   "name": "python",
   "nbconvert_exporter": "python",
   "pygments_lexer": "ipython3",
   "version": "3.8.10"
  }
 },
 "nbformat": 4,
 "nbformat_minor": 2
}
