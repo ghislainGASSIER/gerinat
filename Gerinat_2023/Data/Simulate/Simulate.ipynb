{
 "cells": [
  {
   "cell_type": "markdown",
   "metadata": {},
   "source": [
    "# New heading"
   ]
  },
  {
   "cell_type": "markdown",
   "metadata": {},
   "source": [
    "https://machinelearningmastery.com/time-series-forecasting-methods-in-python-cheat-sheet/"
   ]
  },
  {
   "cell_type": "code",
   "execution_count": 1,
   "metadata": {},
   "outputs": [],
   "source": [
    "import statsmodels.api as sm\n",
    "import numpy as np\n",
    "import pandas as pd\n",
    "import matplotlib.pyplot as plt"
   ]
  },
  {
   "cell_type": "code",
   "execution_count": 2,
   "metadata": {},
   "outputs": [
    {
     "data": {
      "text/plain": [
       "300"
      ]
     },
     "execution_count": 2,
     "metadata": {},
     "output_type": "execute_result"
    }
   ],
   "source": [
    "FREQ=5*60\n",
    "FREQ"
   ]
  },
  {
   "cell_type": "markdown",
   "metadata": {},
   "source": [
    "Il y a N point et l'intervalle entre chaque point est de T"
   ]
  },
  {
   "cell_type": "code",
   "execution_count": 3,
   "metadata": {
    "scrolled": true
   },
   "outputs": [],
   "source": [
    "\n",
    "# Number of sample points\n",
    "N = 1000\n",
    "Fe=800.\n",
    "# sample spacing\n",
    "T = 1.0 / Fe\n",
    "T=FREQ\n",
    "Fe=1.0/T"
   ]
  },
  {
   "cell_type": "markdown",
   "metadata": {},
   "source": [
    "T correspond à la fréquence freq "
   ]
  },
  {
   "cell_type": "code",
   "execution_count": 4,
   "metadata": {
    "scrolled": true
   },
   "outputs": [
    {
     "data": {
      "text/plain": [
       "300"
      ]
     },
     "execution_count": 4,
     "metadata": {},
     "output_type": "execute_result"
    }
   ],
   "source": [
    "T"
   ]
  },
  {
   "cell_type": "code",
   "execution_count": 5,
   "metadata": {},
   "outputs": [
    {
     "data": {
      "text/plain": [
       "0.0033333333333333335"
      ]
     },
     "execution_count": 5,
     "metadata": {},
     "output_type": "execute_result"
    }
   ],
   "source": [
    "Fe"
   ]
  },
  {
   "cell_type": "code",
   "execution_count": 6,
   "metadata": {},
   "outputs": [
    {
     "data": {
      "text/plain": [
       "(1000,)"
      ]
     },
     "execution_count": 6,
     "metadata": {},
     "output_type": "execute_result"
    }
   ],
   "source": [
    "time=np.arange(start=0.0,stop=N*T,step=T)\n",
    "time.shape"
   ]
  },
  {
   "cell_type": "code",
   "execution_count": 7,
   "metadata": {},
   "outputs": [
    {
     "data": {
      "text/plain": [
       "(1000,)"
      ]
     },
     "execution_count": 7,
     "metadata": {},
     "output_type": "execute_result"
    }
   ],
   "source": [
    "x = np.linspace(start=0.0, stop=N*T, num=N, endpoint=False)\n",
    "x.shape"
   ]
  },
  {
   "cell_type": "code",
   "execution_count": 8,
   "metadata": {},
   "outputs": [],
   "source": [
    "dates=pd.date_range(start='1/1/2018 23:10', periods=N, freq='5min')"
   ]
  },
  {
   "cell_type": "code",
   "execution_count": 9,
   "metadata": {},
   "outputs": [],
   "source": [
    "duration=dates[1]-dates[0]\n"
   ]
  },
  {
   "cell_type": "code",
   "execution_count": 10,
   "metadata": {},
   "outputs": [],
   "source": [
    "days, seconds = duration.days, duration.seconds"
   ]
  },
  {
   "cell_type": "raw",
   "metadata": {},
   "source": [
    "hours = days * 24 + seconds // 3600\n",
    "minutes = (seconds % 3600) // 60\n",
    "seconds = seconds % 60"
   ]
  },
  {
   "cell_type": "code",
   "execution_count": 11,
   "metadata": {
    "scrolled": false
   },
   "outputs": [
    {
     "data": {
      "text/plain": [
       "0"
      ]
     },
     "execution_count": 11,
     "metadata": {},
     "output_type": "execute_result"
    }
   ],
   "source": [
    "days"
   ]
  },
  {
   "cell_type": "markdown",
   "metadata": {},
   "source": [
    "# Périodes"
   ]
  },
  {
   "cell_type": "markdown",
   "metadata": {},
   "source": [
    "Notre base de travail, que nous appelons période, est une journée"
   ]
  },
  {
   "cell_type": "code",
   "execution_count": 12,
   "metadata": {},
   "outputs": [],
   "source": [
    "PeriodeRef=3600*24 #seconde"
   ]
  },
  {
   "cell_type": "markdown",
   "metadata": {},
   "source": [
    "Échantillons\n"
   ]
  },
  {
   "cell_type": "code",
   "execution_count": 13,
   "metadata": {},
   "outputs": [],
   "source": [
    "Te=5*60 # seconde"
   ]
  },
  {
   "cell_type": "markdown",
   "metadata": {},
   "source": [
    "Nombre de points sur 5 jour"
   ]
  },
  {
   "cell_type": "code",
   "execution_count": 14,
   "metadata": {
    "scrolled": true
   },
   "outputs": [
    {
     "data": {
      "text/plain": [
       "1440"
      ]
     },
     "execution_count": 14,
     "metadata": {},
     "output_type": "execute_result"
    }
   ],
   "source": [
    "Ne= 5*int(PeriodeRef/Te)\n",
    "Ne"
   ]
  },
  {
   "cell_type": "markdown",
   "metadata": {},
   "source": [
    "On veut qu'il y ai trois cycle par jour, ce qui fait un total de 15 cycles sur 5 jours"
   ]
  },
  {
   "cell_type": "code",
   "execution_count": 15,
   "metadata": {},
   "outputs": [],
   "source": [
    "CycleParPeriode=3\n"
   ]
  },
  {
   "cell_type": "code",
   "execution_count": 16,
   "metadata": {
    "scrolled": true
   },
   "outputs": [
    {
     "data": {
      "text/plain": [
       "3.472222222222222e-05"
      ]
     },
     "execution_count": 16,
     "metadata": {},
     "output_type": "execute_result"
    }
   ],
   "source": [
    "Fr=CycleParPeriode/PeriodeRef\n",
    "Fr"
   ]
  },
  {
   "cell_type": "code",
   "execution_count": 17,
   "metadata": {},
   "outputs": [
    {
     "data": {
      "text/plain": [
       "96.0"
      ]
     },
     "execution_count": 17,
     "metadata": {},
     "output_type": "execute_result"
    }
   ],
   "source": [
    "T=PeriodeRef/(Te*3)\n",
    "T"
   ]
  },
  {
   "cell_type": "raw",
   "metadata": {},
   "source": [
    "Retard/T=Phase/Lambda"
   ]
  },
  {
   "cell_type": "code",
   "execution_count": 18,
   "metadata": {},
   "outputs": [],
   "source": [
    "ph=2.5"
   ]
  },
  {
   "cell_type": "code",
   "execution_count": 19,
   "metadata": {
    "scrolled": true
   },
   "outputs": [
    {
     "data": {
      "text/plain": [
       "11459.155902616465"
      ]
     },
     "execution_count": 19,
     "metadata": {},
     "output_type": "execute_result"
    }
   ],
   "source": [
    "Retard=ph*(T*Te)/(2*np.pi)\n",
    "Retard"
   ]
  },
  {
   "cell_type": "markdown",
   "metadata": {},
   "source": [
    "https://zestedesavoir.com/tutoriels/2451/les-signaux-sinusoidaux-en-physique/dephasage-et-retard/"
   ]
  },
  {
   "cell_type": "code",
   "execution_count": 20,
   "metadata": {},
   "outputs": [
    {
     "data": {
      "text/plain": [
       "11459.155902616463"
      ]
     },
     "execution_count": 20,
     "metadata": {},
     "output_type": "execute_result"
    }
   ],
   "source": [
    "Dt=ph/(2*np.pi*Fr)\n",
    "Dt"
   ]
  },
  {
   "cell_type": "code",
   "execution_count": 21,
   "metadata": {},
   "outputs": [
    {
     "data": {
      "text/plain": [
       "array([ 0.        ,  0.06544985,  0.13089969,  0.19634954,  0.26179939,\n",
       "        0.32724923,  0.39269908,  0.45814893,  0.52359878,  0.58904862,\n",
       "        0.65449847,  0.71994832,  0.78539816,  0.85084801,  0.91629786,\n",
       "        0.9817477 ,  1.04719755,  1.1126474 ,  1.17809725,  1.24354709,\n",
       "        1.30899694,  1.37444679,  1.43989663,  1.50534648,  1.57079633,\n",
       "        1.63624617,  1.70169602,  1.76714587,  1.83259571,  1.89804556,\n",
       "        1.96349541,  2.02894526,  2.0943951 ,  2.15984495,  2.2252948 ,\n",
       "        2.29074464,  2.35619449,  2.42164434,  2.48709418,  2.55254403,\n",
       "        2.61799388,  2.68344372,  2.74889357,  2.81434342,  2.87979327,\n",
       "        2.94524311,  3.01069296,  3.07614281,  3.14159265,  3.2070425 ,\n",
       "        3.27249235,  3.33794219,  3.40339204,  3.46884189,  3.53429174,\n",
       "        3.59974158,  3.66519143,  3.73064128,  3.79609112,  3.86154097,\n",
       "        3.92699082,  3.99244066,  4.05789051,  4.12334036,  4.1887902 ,\n",
       "        4.25424005,  4.3196899 ,  4.38513975,  4.45058959,  4.51603944,\n",
       "        4.58148929,  4.64693913,  4.71238898,  4.77783883,  4.84328867,\n",
       "        4.90873852,  4.97418837,  5.03963822,  5.10508806,  5.17053791,\n",
       "        5.23598776,  5.3014376 ,  5.36688745,  5.4323373 ,  5.49778714,\n",
       "        5.56323699,  5.62868684,  5.69413668,  5.75958653,  5.82503638,\n",
       "        5.89048623,  5.95593607,  6.02138592,  6.08683577,  6.15228561,\n",
       "        6.21773546,  6.28318531,  6.34863515,  6.414085  ,  6.47953485,\n",
       "        6.54498469,  6.61043454,  6.67588439,  6.74133424,  6.80678408,\n",
       "        6.87223393,  6.93768378,  7.00313362,  7.06858347,  7.13403332,\n",
       "        7.19948316,  7.26493301,  7.33038286,  7.39583271,  7.46128255,\n",
       "        7.5267324 ,  7.59218225,  7.65763209,  7.72308194,  7.78853179,\n",
       "        7.85398163,  7.91943148,  7.98488133,  8.05033117,  8.11578102,\n",
       "        8.18123087,  8.24668072,  8.31213056,  8.37758041,  8.44303026,\n",
       "        8.5084801 ,  8.57392995,  8.6393798 ,  8.70482964,  8.77027949,\n",
       "        8.83572934,  8.90117919,  8.96662903,  9.03207888,  9.09752873,\n",
       "        9.16297857,  9.22842842,  9.29387827,  9.35932811,  9.42477796,\n",
       "        9.49022781,  9.55567765,  9.6211275 ,  9.68657735,  9.7520272 ,\n",
       "        9.81747704,  9.88292689,  9.94837674, 10.01382658, 10.07927643,\n",
       "       10.14472628, 10.21017612, 10.27562597, 10.34107582, 10.40652567,\n",
       "       10.47197551, 10.53742536, 10.60287521, 10.66832505, 10.7337749 ,\n",
       "       10.79922475, 10.86467459, 10.93012444, 10.99557429, 11.06102413,\n",
       "       11.12647398, 11.19192383, 11.25737368, 11.32282352, 11.38827337,\n",
       "       11.45372322, 11.51917306, 11.58462291, 11.65007276, 11.7155226 ,\n",
       "       11.78097245, 11.8464223 , 11.91187214, 11.97732199, 12.04277184,\n",
       "       12.10822169, 12.17367153, 12.23912138, 12.30457123, 12.37002107,\n",
       "       12.43547092, 12.50092077, 12.56637061, 12.63182046, 12.69727031,\n",
       "       12.76272016, 12.82817   , 12.89361985, 12.9590697 , 13.02451954,\n",
       "       13.08996939, 13.15541924, 13.22086908, 13.28631893, 13.35176878,\n",
       "       13.41721862, 13.48266847, 13.54811832, 13.61356817, 13.67901801,\n",
       "       13.74446786, 13.80991771, 13.87536755, 13.9408174 , 14.00626725,\n",
       "       14.07171709, 14.13716694, 14.20261679, 14.26806664, 14.33351648,\n",
       "       14.39896633, 14.46441618, 14.52986602, 14.59531587, 14.66076572,\n",
       "       14.72621556, 14.79166541, 14.85711526, 14.9225651 , 14.98801495,\n",
       "       15.0534648 , 15.11891465, 15.18436449, 15.24981434, 15.31526419,\n",
       "       15.38071403, 15.44616388, 15.51161373, 15.57706357, 15.64251342,\n",
       "       15.70796327, 15.77341311, 15.83886296, 15.90431281, 15.96976266,\n",
       "       16.0352125 , 16.10066235, 16.1661122 , 16.23156204, 16.29701189,\n",
       "       16.36246174, 16.42791158, 16.49336143, 16.55881128, 16.62426113,\n",
       "       16.68971097, 16.75516082, 16.82061067, 16.88606051, 16.95151036,\n",
       "       17.01696021, 17.08241005, 17.1478599 , 17.21330975, 17.27875959,\n",
       "       17.34420944, 17.40965929, 17.47510914, 17.54055898, 17.60600883,\n",
       "       17.67145868, 17.73690852, 17.80235837, 17.86780822, 17.93325806,\n",
       "       17.99870791, 18.06415776, 18.12960761, 18.19505745, 18.2605073 ,\n",
       "       18.32595715, 18.39140699, 18.45685684, 18.52230669, 18.58775653,\n",
       "       18.65320638, 18.71865623, 18.78410607, 18.84955592, 18.91500577,\n",
       "       18.98045562, 19.04590546, 19.11135531, 19.17680516, 19.242255  ,\n",
       "       19.30770485, 19.3731547 , 19.43860454, 19.50405439, 19.56950424,\n",
       "       19.63495408, 19.70040393, 19.76585378, 19.83130363, 19.89675347,\n",
       "       19.96220332, 20.02765317, 20.09310301, 20.15855286, 20.22400271,\n",
       "       20.28945255, 20.3549024 , 20.42035225, 20.4858021 , 20.55125194,\n",
       "       20.61670179, 20.68215164, 20.74760148, 20.81305133, 20.87850118,\n",
       "       20.94395102, 21.00940087, 21.07485072, 21.14030056, 21.20575041,\n",
       "       21.27120026, 21.33665011, 21.40209995, 21.4675498 , 21.53299965,\n",
       "       21.59844949, 21.66389934, 21.72934919, 21.79479903, 21.86024888,\n",
       "       21.92569873, 21.99114858, 22.05659842, 22.12204827, 22.18749812,\n",
       "       22.25294796, 22.31839781, 22.38384766, 22.4492975 , 22.51474735,\n",
       "       22.5801972 , 22.64564704, 22.71109689, 22.77654674, 22.84199659,\n",
       "       22.90744643, 22.97289628, 23.03834613, 23.10379597, 23.16924582,\n",
       "       23.23469567, 23.30014551, 23.36559536, 23.43104521, 23.49649505,\n",
       "       23.5619449 , 23.62739475, 23.6928446 , 23.75829444, 23.82374429,\n",
       "       23.88919414, 23.95464398, 24.02009383, 24.08554368, 24.15099352,\n",
       "       24.21644337, 24.28189322, 24.34734307, 24.41279291, 24.47824276,\n",
       "       24.54369261, 24.60914245, 24.6745923 , 24.74004215, 24.80549199,\n",
       "       24.87094184, 24.93639169, 25.00184153, 25.06729138, 25.13274123,\n",
       "       25.19819108, 25.26364092, 25.32909077, 25.39454062, 25.45999046,\n",
       "       25.52544031, 25.59089016, 25.65634   , 25.72178985, 25.7872397 ,\n",
       "       25.85268955, 25.91813939, 25.98358924, 26.04903909, 26.11448893,\n",
       "       26.17993878, 26.24538863, 26.31083847, 26.37628832, 26.44173817,\n",
       "       26.50718801, 26.57263786, 26.63808771, 26.70353756, 26.7689874 ,\n",
       "       26.83443725, 26.8998871 , 26.96533694, 27.03078679, 27.09623664,\n",
       "       27.16168648, 27.22713633, 27.29258618, 27.35803603, 27.42348587,\n",
       "       27.48893572, 27.55438557, 27.61983541, 27.68528526, 27.75073511,\n",
       "       27.81618495, 27.8816348 , 27.94708465, 28.01253449, 28.07798434,\n",
       "       28.14343419, 28.20888404, 28.27433388, 28.33978373, 28.40523358,\n",
       "       28.47068342, 28.53613327, 28.60158312, 28.66703296, 28.73248281,\n",
       "       28.79793266, 28.8633825 , 28.92883235, 28.9942822 , 29.05973205,\n",
       "       29.12518189, 29.19063174, 29.25608159, 29.32153143, 29.38698128,\n",
       "       29.45243113, 29.51788097, 29.58333082, 29.64878067, 29.71423052,\n",
       "       29.77968036, 29.84513021, 29.91058006, 29.9760299 , 30.04147975,\n",
       "       30.1069296 , 30.17237944, 30.23782929, 30.30327914, 30.36872898,\n",
       "       30.43417883, 30.49962868, 30.56507853, 30.63052837, 30.69597822,\n",
       "       30.76142807, 30.82687791, 30.89232776, 30.95777761, 31.02322745,\n",
       "       31.0886773 , 31.15412715, 31.219577  , 31.28502684, 31.35047669,\n",
       "       31.41592654, 31.48137638, 31.54682623, 31.61227608, 31.67772592,\n",
       "       31.74317577, 31.80862562, 31.87407546, 31.93952531, 32.00497516,\n",
       "       32.07042501, 32.13587485, 32.2013247 , 32.26677455, 32.33222439,\n",
       "       32.39767424, 32.46312409, 32.52857393, 32.59402378, 32.65947363,\n",
       "       32.72492347, 32.79037332, 32.85582317, 32.92127302, 32.98672286,\n",
       "       33.05217271, 33.11762256, 33.1830724 , 33.24852225, 33.3139721 ,\n",
       "       33.37942194, 33.44487179, 33.51032164, 33.57577149, 33.64122133,\n",
       "       33.70667118, 33.77212103, 33.83757087, 33.90302072, 33.96847057,\n",
       "       34.03392041, 34.09937026, 34.16482011, 34.23026995, 34.2957198 ,\n",
       "       34.36116965, 34.4266195 , 34.49206934, 34.55751919, 34.62296904,\n",
       "       34.68841888, 34.75386873, 34.81931858, 34.88476842, 34.95021827,\n",
       "       35.01566812, 35.08111797, 35.14656781, 35.21201766, 35.27746751,\n",
       "       35.34291735, 35.4083672 , 35.47381705, 35.53926689, 35.60471674,\n",
       "       35.67016659, 35.73561643, 35.80106628, 35.86651613, 35.93196598,\n",
       "       35.99741582, 36.06286567, 36.12831552, 36.19376536, 36.25921521,\n",
       "       36.32466506, 36.3901149 , 36.45556475, 36.5210146 , 36.58646444,\n",
       "       36.65191429, 36.71736414, 36.78281399, 36.84826383, 36.91371368,\n",
       "       36.97916353, 37.04461337, 37.11006322, 37.17551307, 37.24096291,\n",
       "       37.30641276, 37.37186261, 37.43731246, 37.5027623 , 37.56821215,\n",
       "       37.633662  , 37.69911184, 37.76456169, 37.83001154, 37.89546138,\n",
       "       37.96091123, 38.02636108, 38.09181092, 38.15726077, 38.22271062,\n",
       "       38.28816047, 38.35361031, 38.41906016, 38.48451001, 38.54995985,\n",
       "       38.6154097 , 38.68085955, 38.74630939, 38.81175924, 38.87720909,\n",
       "       38.94265894, 39.00810878, 39.07355863, 39.13900848, 39.20445832,\n",
       "       39.26990817, 39.33535802, 39.40080786, 39.46625771, 39.53170756,\n",
       "       39.5971574 , 39.66260725, 39.7280571 , 39.79350695, 39.85895679,\n",
       "       39.92440664, 39.98985649, 40.05530633, 40.12075618, 40.18620603,\n",
       "       40.25165587, 40.31710572, 40.38255557, 40.44800541, 40.51345526,\n",
       "       40.57890511, 40.64435496, 40.7098048 , 40.77525465, 40.8407045 ,\n",
       "       40.90615434, 40.97160419, 41.03705404, 41.10250388, 41.16795373,\n",
       "       41.23340358, 41.29885343, 41.36430327, 41.42975312, 41.49520297,\n",
       "       41.56065281, 41.62610266, 41.69155251, 41.75700235, 41.8224522 ,\n",
       "       41.88790205, 41.95335189, 42.01880174, 42.08425159, 42.14970144,\n",
       "       42.21515128, 42.28060113, 42.34605098, 42.41150082, 42.47695067,\n",
       "       42.54240052, 42.60785036, 42.67330021, 42.73875006, 42.80419991,\n",
       "       42.86964975, 42.9350996 , 43.00054945, 43.06599929, 43.13144914,\n",
       "       43.19689899, 43.26234883, 43.32779868, 43.39324853, 43.45869837,\n",
       "       43.52414822, 43.58959807, 43.65504792, 43.72049776, 43.78594761,\n",
       "       43.85139746, 43.9168473 , 43.98229715, 44.047747  , 44.11319684,\n",
       "       44.17864669, 44.24409654, 44.30954639, 44.37499623, 44.44044608,\n",
       "       44.50589593, 44.57134577, 44.63679562, 44.70224547, 44.76769531,\n",
       "       44.83314516, 44.89859501, 44.96404485, 45.0294947 , 45.09494455,\n",
       "       45.1603944 , 45.22584424, 45.29129409, 45.35674394, 45.42219378,\n",
       "       45.48764363, 45.55309348, 45.61854332, 45.68399317, 45.74944302,\n",
       "       45.81489286, 45.88034271, 45.94579256, 46.01124241, 46.07669225,\n",
       "       46.1421421 , 46.20759195, 46.27304179, 46.33849164, 46.40394149,\n",
       "       46.46939133, 46.53484118, 46.60029103, 46.66574088, 46.73119072,\n",
       "       46.79664057, 46.86209042, 46.92754026, 46.99299011, 47.05843996,\n",
       "       47.1238898 , 47.18933965, 47.2547895 , 47.32023934, 47.38568919,\n",
       "       47.45113904, 47.51658889, 47.58203873, 47.64748858, 47.71293843,\n",
       "       47.77838827, 47.84383812, 47.90928797, 47.97473781, 48.04018766,\n",
       "       48.10563751, 48.17108736, 48.2365372 , 48.30198705, 48.3674369 ,\n",
       "       48.43288674, 48.49833659, 48.56378644, 48.62923628, 48.69468613,\n",
       "       48.76013598, 48.82558582, 48.89103567, 48.95648552, 49.02193537,\n",
       "       49.08738521, 49.15283506, 49.21828491, 49.28373475, 49.3491846 ,\n",
       "       49.41463445, 49.48008429, 49.54553414, 49.61098399, 49.67643383,\n",
       "       49.74188368, 49.80733353, 49.87278338, 49.93823322, 50.00368307,\n",
       "       50.06913292, 50.13458276, 50.20003261, 50.26548246, 50.3309323 ,\n",
       "       50.39638215, 50.461832  , 50.52728185, 50.59273169, 50.65818154,\n",
       "       50.72363139, 50.78908123, 50.85453108, 50.91998093, 50.98543077,\n",
       "       51.05088062, 51.11633047, 51.18178031, 51.24723016, 51.31268001,\n",
       "       51.37812986, 51.4435797 , 51.50902955, 51.5744794 , 51.63992924,\n",
       "       51.70537909, 51.77082894, 51.83627878, 51.90172863, 51.96717848,\n",
       "       52.03262833, 52.09807817, 52.16352802, 52.22897787, 52.29442771,\n",
       "       52.35987756, 52.42532741, 52.49077725, 52.5562271 , 52.62167695,\n",
       "       52.68712679, 52.75257664, 52.81802649, 52.88347634, 52.94892618,\n",
       "       53.01437603, 53.07982588, 53.14527572, 53.21072557, 53.27617542,\n",
       "       53.34162526, 53.40707511, 53.47252496, 53.5379748 , 53.60342465,\n",
       "       53.6688745 , 53.73432435, 53.79977419, 53.86522404, 53.93067389,\n",
       "       53.99612373, 54.06157358, 54.12702343, 54.19247327, 54.25792312,\n",
       "       54.32337297, 54.38882282, 54.45427266, 54.51972251, 54.58517236,\n",
       "       54.6506222 , 54.71607205, 54.7815219 , 54.84697174, 54.91242159,\n",
       "       54.97787144, 55.04332128, 55.10877113, 55.17422098, 55.23967083,\n",
       "       55.30512067, 55.37057052, 55.43602037, 55.50147021, 55.56692006,\n",
       "       55.63236991, 55.69781975, 55.7632696 , 55.82871945, 55.8941693 ,\n",
       "       55.95961914, 56.02506899, 56.09051884, 56.15596868, 56.22141853,\n",
       "       56.28686838, 56.35231822, 56.41776807, 56.48321792, 56.54866776,\n",
       "       56.61411761, 56.67956746, 56.74501731, 56.81046715, 56.875917  ,\n",
       "       56.94136685, 57.00681669, 57.07226654, 57.13771639, 57.20316623,\n",
       "       57.26861608, 57.33406593, 57.39951577, 57.46496562, 57.53041547,\n",
       "       57.59586532, 57.66131516, 57.72676501, 57.79221486, 57.8576647 ,\n",
       "       57.92311455, 57.9885644 , 58.05401424, 58.11946409, 58.18491394,\n",
       "       58.25036379, 58.31581363, 58.38126348, 58.44671333, 58.51216317,\n",
       "       58.57761302, 58.64306287, 58.70851271, 58.77396256, 58.83941241,\n",
       "       58.90486225, 58.9703121 , 59.03576195, 59.1012118 , 59.16666164,\n",
       "       59.23211149, 59.29756134, 59.36301118, 59.42846103, 59.49391088,\n",
       "       59.55936072, 59.62481057, 59.69026042, 59.75571027, 59.82116011,\n",
       "       59.88660996, 59.95205981, 60.01750965, 60.0829595 , 60.14840935,\n",
       "       60.21385919, 60.27930904, 60.34475889, 60.41020873, 60.47565858,\n",
       "       60.54110843, 60.60655828, 60.67200812, 60.73745797, 60.80290782,\n",
       "       60.86835766, 60.93380751, 60.99925736, 61.0647072 , 61.13015705,\n",
       "       61.1956069 , 61.26105675, 61.32650659, 61.39195644, 61.45740629,\n",
       "       61.52285613, 61.58830598, 61.65375583, 61.71920567, 61.78465552,\n",
       "       61.85010537, 61.91555521, 61.98100506, 62.04645491, 62.11190476,\n",
       "       62.1773546 , 62.24280445, 62.3082543 , 62.37370414, 62.43915399,\n",
       "       62.50460384, 62.57005368, 62.63550353, 62.70095338, 62.76640322,\n",
       "       62.83185307, 62.89730292, 62.96275277, 63.02820261, 63.09365246,\n",
       "       63.15910231, 63.22455215, 63.290002  , 63.35545185, 63.42090169,\n",
       "       63.48635154, 63.55180139, 63.61725124, 63.68270108, 63.74815093,\n",
       "       63.81360078, 63.87905062, 63.94450047, 64.00995032, 64.07540016,\n",
       "       64.14085001, 64.20629986, 64.2717497 , 64.33719955, 64.4026494 ,\n",
       "       64.46809925, 64.53354909, 64.59899894, 64.66444879, 64.72989863,\n",
       "       64.79534848, 64.86079833, 64.92624817, 64.99169802, 65.05714787,\n",
       "       65.12259772, 65.18804756, 65.25349741, 65.31894726, 65.3843971 ])"
      ]
     },
     "execution_count": 21,
     "metadata": {},
     "output_type": "execute_result"
    }
   ],
   "source": [
    "Fr*2*np.pi*time"
   ]
  },
  {
   "cell_type": "code",
   "execution_count": 22,
   "metadata": {
    "scrolled": false
   },
   "outputs": [
    {
     "data": {
      "text/plain": [
       "30000"
      ]
     },
     "execution_count": 22,
     "metadata": {},
     "output_type": "execute_result"
    }
   ],
   "source": [
    "time=np.arange(Ne*Te,step=Te)\n",
    "time[100]"
   ]
  },
  {
   "cell_type": "code",
   "execution_count": 23,
   "metadata": {},
   "outputs": [],
   "source": [
    "Retard=50"
   ]
  },
  {
   "cell_type": "code",
   "execution_count": 24,
   "metadata": {
    "scrolled": false
   },
   "outputs": [
    {
     "data": {
      "text/plain": [
       "[<matplotlib.lines.Line2D at 0x7fb7b51b9820>]"
      ]
     },
     "execution_count": 24,
     "metadata": {},
     "output_type": "execute_result"
    }
   ],
   "source": [
    "seasonality=np.sin(Fr*2*np.pi*time+Retard)\n",
    "plt.plot(time,seasonality)"
   ]
  },
  {
   "cell_type": "code",
   "execution_count": 25,
   "metadata": {
    "scrolled": true
   },
   "outputs": [
    {
     "data": {
      "text/plain": [
       "3.141592653589793"
      ]
     },
     "execution_count": 25,
     "metadata": {},
     "output_type": "execute_result"
    }
   ],
   "source": [
    "np.pi"
   ]
  },
  {
   "cell_type": "code",
   "execution_count": null,
   "metadata": {},
   "outputs": [],
   "source": []
  },
  {
   "cell_type": "code",
   "execution_count": 26,
   "metadata": {
    "scrolled": true
   },
   "outputs": [
    {
     "name": "stdout",
     "output_type": "stream",
     "text": [
      "Retard :99681.6901138162\n",
      "reel : 6.263\n",
      "\n",
      "Rest : 1.551\n",
      "Div : -1\n",
      "Estimation brutes -1.591\n",
      "\n",
      "Estimation affiner: 6.263\n",
      "Ecart : 1.7763568394002505e-15\n"
     ]
    },
    {
     "data": {
      "image/png": "[encoded data removed]",
      "text/plain": [
       "<Figure size 640x480 with 3 Axes>"
      ]
     },
     "metadata": {},
     "output_type": "display_data"
    }
   ],
   "source": [
    "import numpy as np\n",
    "import pylab as pl\n",
    "\n",
    "num_t = 10000\n",
    "End=1000000\n",
    "t= np.linspace(0,End, num_t, endpoint=False)\n",
    "Fr=0.00001\n",
    "w = 2.0*np.pi*Fr\n",
    "phase =2*np.pi-0.02\n",
    "Delay=phase/(2*np.pi*Fr)\n",
    "print('Retard :'+str(Delay))\n",
    "dt = End/num_t\n",
    "TT=int(1/(Fr*dt))#*dt\n",
    "sig=np.sin(w*t+phase)\n",
    "amp = np.fft.rfft(sig)#+np.pi/2\n",
    "freqs = np.fft.rfftfreq(t.shape[-1],dt)\n",
    "mag=np.sqrt(amp.real**2+amp.imag**2)\n",
    "pha=np.arctan2(amp.imag,amp.real)\n",
    "#pha[abs(mag)<1]=0\n",
    "print('reel : '+str(np.around(phase,3))+'\\n')\n",
    "#PHA=max(abs(pha))\n",
    "IndFR=np.argmax(mag)\n",
    "Pe=np.pi\n",
    "PHA=pha[IndFR]\n",
    "PhaMod=PHA%Pe\n",
    "PhaDiv=int(PHA//Pe)\n",
    "print(\"Rest : \"+str(np.around(PhaMod,3)))\n",
    "print(\"Div : \"+str(PhaDiv))\n",
    "print('Estimation brutes '+str(np.around(PHA,3))+'\\n')\n",
    "#print(PHA>np.pi/2)\n",
    "'''if((PHA>np.pi+0.001) or (PHA<0)):\n",
    "    print(\">\")\n",
    "    PHA=PHA+np.pi'''\n",
    "PHA=PhaMod+abs(PhaDiv)*np.pi+np.pi/2\n",
    "#print (PHA)\n",
    "print('Estimation affiner: '+str(np.around(PHA,3)))\n",
    "print('Ecart : '+str(PHA-phase))\n",
    "pl.subplot(311)\n",
    "pl.plot(freqs[:50],np.sqrt(amp.real**2+amp.imag**2)[:50])\n",
    "pl.subplot(312)\n",
    "pl.plot(freqs[:50],(pha)[:50])\n",
    "pl.subplot(313)\n",
    "pl.plot(t,sig,'g')\n",
    "pl.plot(t[:TT],sig[:TT],'r')\n",
    "pl.grid()\n",
    "pl.show()"
   ]
  },
  {
   "cell_type": "code",
   "execution_count": 27,
   "metadata": {
    "scrolled": true
   },
   "outputs": [
    {
     "data": {
      "text/plain": [
       "9999999.999999998"
      ]
     },
     "execution_count": 27,
     "metadata": {},
     "output_type": "execute_result"
    }
   ],
   "source": [
    "TT=1/Fr*dt\n",
    "TT"
   ]
  },
  {
   "cell_type": "code",
   "execution_count": 28,
   "metadata": {
    "scrolled": false
   },
   "outputs": [
    {
     "data": {
      "text/plain": [
       "333.3333333333333"
      ]
     },
     "execution_count": 28,
     "metadata": {},
     "output_type": "execute_result"
    }
   ],
   "source": [
    "Lambda=1/(Fr*60*5)\n",
    "Lambda"
   ]
  },
  {
   "cell_type": "raw",
   "metadata": {},
   "source": [
    "ph=4"
   ]
  },
  {
   "cell_type": "raw",
   "metadata": {
    "scrolled": false
   },
   "source": [
    "# Retard=int(ph*Lambda/(2*np.pi))\n",
    "Retard"
   ]
  },
  {
   "cell_type": "raw",
   "metadata": {},
   "source": [
    "Phase=0.25*int(Periode/(5*60))+1"
   ]
  },
  {
   "cell_type": "code",
   "execution_count": 29,
   "metadata": {},
   "outputs": [],
   "source": [
    "dates2=pd.date_range(start='1/1/2018 23:10', periods=Ne, freq='5min')\n"
   ]
  },
  {
   "cell_type": "code",
   "execution_count": 30,
   "metadata": {
    "scrolled": false
   },
   "outputs": [
    {
     "ename": "NameError",
     "evalue": "name 'Periode' is not defined",
     "output_type": "error",
     "traceback": [
      "\u001b[0;31m---------------------------------------------------------------------------\u001b[0m",
      "\u001b[0;31mNameError\u001b[0m                                 Traceback (most recent call last)",
      "\u001b[0;32m<ipython-input-30-ac310becf9fa>\u001b[0m in \u001b[0;36m<module>\u001b[0;34m\u001b[0m\n\u001b[1;32m      4\u001b[0m \u001b[0mdfs\u001b[0m\u001b[0;34m.\u001b[0m\u001b[0mindex\u001b[0m \u001b[0;34m=\u001b[0m \u001b[0mdates2\u001b[0m\u001b[0;34m\u001b[0m\u001b[0;34m\u001b[0m\u001b[0m\n\u001b[1;32m      5\u001b[0m \u001b[0mdfs\u001b[0m\u001b[0;34m.\u001b[0m\u001b[0mplot\u001b[0m\u001b[0;34m(\u001b[0m\u001b[0;34m)\u001b[0m\u001b[0;34m\u001b[0m\u001b[0;34m\u001b[0m\u001b[0m\n\u001b[0;32m----> 6\u001b[0;31m \u001b[0mdfs\u001b[0m\u001b[0;34m[\u001b[0m\u001b[0;36m0\u001b[0m\u001b[0;34m:\u001b[0m\u001b[0mint\u001b[0m\u001b[0;34m(\u001b[0m\u001b[0mPeriode\u001b[0m\u001b[0;34m/\u001b[0m\u001b[0;34m(\u001b[0m\u001b[0;36m3\u001b[0m\u001b[0;34m*\u001b[0m\u001b[0;36m5\u001b[0m\u001b[0;34m*\u001b[0m\u001b[0;36m60\u001b[0m\u001b[0;34m)\u001b[0m\u001b[0;34m)\u001b[0m\u001b[0;34m+\u001b[0m\u001b[0;36m1\u001b[0m\u001b[0;34m]\u001b[0m\u001b[0;34m.\u001b[0m\u001b[0mplot\u001b[0m\u001b[0;34m(\u001b[0m\u001b[0;34m)\u001b[0m\u001b[0;34m\u001b[0m\u001b[0;34m\u001b[0m\u001b[0m\n\u001b[0m\u001b[1;32m      7\u001b[0m \u001b[0mplt\u001b[0m\u001b[0;34m.\u001b[0m\u001b[0mgrid\u001b[0m\u001b[0;34m(\u001b[0m\u001b[0;34m)\u001b[0m\u001b[0;34m\u001b[0m\u001b[0;34m\u001b[0m\u001b[0m\n",
      "\u001b[0;31mNameError\u001b[0m: name 'Periode' is not defined"
     ]
    }
   ],
   "source": [
    "from scipy import signal\n",
    "import pandas as pd\n",
    "dfs = pd.DataFrame(seasonality[:, np.newaxis])\n",
    "dfs.index = dates2\n",
    "dfs.plot()\n",
    "dfs[0:int(Periode/(3*5*60))+1].plot()\n",
    "plt.grid()"
   ]
  },
  {
   "cell_type": "markdown",
   "metadata": {
    "heading_collapsed": true
   },
   "source": [
    "# Test"
   ]
  },
  {
   "cell_type": "code",
   "execution_count": null,
   "metadata": {
    "hidden": true
   },
   "outputs": [],
   "source": [
    "Fr=CycleParJour/(24*3600)\n",
    "Fr"
   ]
  },
  {
   "cell_type": "markdown",
   "metadata": {
    "hidden": true
   },
   "source": [
    "phase = np.pi / 24\n",
    "phase"
   ]
  },
  {
   "cell_type": "raw",
   "metadata": {
    "hidden": true
   },
   "source": [
    "phase=phase*(24*3600)"
   ]
  },
  {
   "cell_type": "code",
   "execution_count": null,
   "metadata": {
    "hidden": true,
    "scrolled": true
   },
   "outputs": [],
   "source": [
    "periode"
   ]
  },
  {
   "cell_type": "code",
   "execution_count": null,
   "metadata": {
    "hidden": true,
    "scrolled": true
   },
   "outputs": [],
   "source": [
    "periode=60#24*3600#max(2.0*np.pi*x)\n",
    "phase=periode/3#*(3600*24)\n",
    "phase=20/(24*3600)\n",
    "phase"
   ]
  },
  {
   "cell_type": "code",
   "execution_count": null,
   "metadata": {
    "hidden": true,
    "scrolled": true
   },
   "outputs": [],
   "source": [
    "seasonality=1* np.sin(Fr*2.0*np.pi*x+phase)\n"
   ]
  },
  {
   "cell_type": "code",
   "execution_count": null,
   "metadata": {
    "hidden": true,
    "scrolled": false
   },
   "outputs": [],
   "source": [
    "from scipy import signal\n",
    "import pandas as pd\n",
    "dfs = pd.DataFrame(seasonality[:, np.newaxis])\n",
    "dfs.index = dates\n",
    "dfs.plot()\n",
    "dfs[0:60].plot()"
   ]
  },
  {
   "cell_type": "markdown",
   "metadata": {},
   "source": [
    "# Fin"
   ]
  },
  {
   "cell_type": "code",
   "execution_count": 31,
   "metadata": {},
   "outputs": [],
   "source": [
    "Fe=1/Te"
   ]
  },
  {
   "cell_type": "code",
   "execution_count": 32,
   "metadata": {},
   "outputs": [],
   "source": [
    "f, Pxx_den = signal.periodogram(dfs.values[:,0],Fe)"
   ]
  },
  {
   "cell_type": "code",
   "execution_count": 33,
   "metadata": {},
   "outputs": [
    {
     "data": {
      "text/plain": [
       "<matplotlib.collections.PathCollection at 0x7fb7b445b910>"
      ]
     },
     "execution_count": 33,
     "metadata": {},
     "output_type": "execute_result"
    }
   ],
   "source": [
    "plt.plot(f,Pxx_den)\n",
    "plt.xlim([0,0.0001])\n",
    "plt.scatter([Fr],[0])"
   ]
  },
  {
   "cell_type": "code",
   "execution_count": 34,
   "metadata": {},
   "outputs": [],
   "source": [
    "from scipy.fft import fft, fftfreq, fftshift"
   ]
  },
  {
   "cell_type": "code",
   "execution_count": 35,
   "metadata": {
    "scrolled": true
   },
   "outputs": [
    {
     "data": {
      "image/png": "[encoded data removed]",
      "text/plain": [
       "<Figure size 640x480 with 1 Axes>"
      ]
     },
     "metadata": {},
     "output_type": "display_data"
    },
    {
     "data": {
      "image/png": "[encoded data removed]",
      "text/plain": [
       "<Figure size 640x480 with 3 Axes>"
      ]
     },
     "metadata": {},
     "output_type": "display_data"
    }
   ],
   "source": [
    "yf = fft(dfs.values[:,0])\n",
    "\n",
    "xf = fftfreq(Ne,Fe)\n",
    "\n",
    "xc = fftshift(fftfreq(Ne,Fe))\n",
    "xfr = fftshift(fftfreq(Ne,Te))\n",
    "\n",
    "yplot = fftshift(yf)\n",
    "\n",
    "import matplotlib.pyplot as plt\n",
    "fig, (ax1, ax2,ax3) = plt.subplots(3)\n",
    "fig.suptitle('Axes values are scaled individually by default')\n",
    "\n",
    "ax1.plot(xc, 1.0/Ne * np.abs(yplot))\n",
    "ax1.set_xlim([0,10])\n",
    "ax1.grid()\n",
    "ax1.scatter([3],[0])\n",
    "ax2.plot(np.abs(yplot))#xfr\n",
    "#\n",
    "#ax2.set_xlim([0,0.0001])\n",
    "#\n",
    "ax2.set_xlim([725,750])\n",
    "ax2.grid()\n",
    "#\n",
    "ax3.scatter([Fr],[0])\n",
    "ax3.plot(xfr,np.abs(yplot))#xfr\n",
    "#\n",
    "#\n",
    "ax3.set_xlim([0,0.0001])\n",
    "#ax2.set_xlim([725,750])\n",
    "ax3.grid()\n",
    "#ax2.scatter([Fr],[0])\n",
    "plt.show()"
   ]
  },
  {
   "cell_type": "code",
   "execution_count": 36,
   "metadata": {
    "scrolled": false
   },
   "outputs": [
    {
     "data": {
      "image/png": "[encoded data removed]",
      "text/plain": [
       "<Figure size 640x480 with 1 Axes>"
      ]
     },
     "metadata": {},
     "output_type": "display_data"
    }
   ],
   "source": [
    "plt.plot(np.angle(yplot))\n",
    "plt.plot(1/100*np.abs(yplot))\n",
    "plt.xlim([720,740])\n",
    "plt.grid()\n",
    "plt.show()"
   ]
  },
  {
   "cell_type": "code",
   "execution_count": 37,
   "metadata": {
    "scrolled": true
   },
   "outputs": [
    {
     "data": {
      "text/plain": [
       "2.5"
      ]
     },
     "execution_count": 37,
     "metadata": {},
     "output_type": "execute_result"
    }
   ],
   "source": [
    "ph"
   ]
  },
  {
   "cell_type": "code",
   "execution_count": 38,
   "metadata": {
    "scrolled": false
   },
   "outputs": [
    {
     "data": {
      "text/plain": [
       "-1.8362787842315882"
      ]
     },
     "execution_count": 38,
     "metadata": {},
     "output_type": "execute_result"
    }
   ],
   "source": [
    "PH=np.angle(yplot[735])#490\n",
    "PH"
   ]
  },
  {
   "cell_type": "code",
   "execution_count": 39,
   "metadata": {},
   "outputs": [
    {
     "data": {
      "text/plain": [
       "-97.41761513507772"
      ]
     },
     "execution_count": 39,
     "metadata": {},
     "output_type": "execute_result"
    }
   ],
   "source": [
    "Ret=PH*Lambda/(2*np.pi)\n",
    "Ret"
   ]
  },
  {
   "cell_type": "code",
   "execution_count": 40,
   "metadata": {
    "scrolled": true
   },
   "outputs": [
    {
     "data": {
      "text/plain": [
       "1.305313869358205"
      ]
     },
     "execution_count": 40,
     "metadata": {},
     "output_type": "execute_result"
    }
   ],
   "source": [
    "M=np.pi+PH\n",
    "M"
   ]
  },
  {
   "cell_type": "code",
   "execution_count": 41,
   "metadata": {},
   "outputs": [
    {
     "data": {
      "text/plain": [
       "333.3333333333333"
      ]
     },
     "execution_count": 41,
     "metadata": {},
     "output_type": "execute_result"
    }
   ],
   "source": [
    "Lambda"
   ]
  },
  {
   "cell_type": "code",
   "execution_count": 42,
   "metadata": {},
   "outputs": [
    {
     "ename": "NameError",
     "evalue": "name 'Periode' is not defined",
     "output_type": "error",
     "traceback": [
      "\u001b[0;31m---------------------------------------------------------------------------\u001b[0m",
      "\u001b[0;31mNameError\u001b[0m                                 Traceback (most recent call last)",
      "\u001b[0;32m<ipython-input-42-c4b4193184c2>\u001b[0m in \u001b[0;36m<module>\u001b[0;34m\u001b[0m\n\u001b[0;32m----> 1\u001b[0;31m \u001b[0mnp\u001b[0m\u001b[0;34m.\u001b[0m\u001b[0mabs\u001b[0m\u001b[0;34m(\u001b[0m\u001b[0mPH\u001b[0m\u001b[0;34m)\u001b[0m\u001b[0;34m*\u001b[0m\u001b[0;34m(\u001b[0m\u001b[0mPeriode\u001b[0m\u001b[0;34m/\u001b[0m\u001b[0;34m(\u001b[0m\u001b[0;36m5\u001b[0m\u001b[0;34m*\u001b[0m\u001b[0;36m60\u001b[0m\u001b[0;34m)\u001b[0m\u001b[0;34m)\u001b[0m\u001b[0;34m/\u001b[0m\u001b[0;34m(\u001b[0m\u001b[0mLambda\u001b[0m\u001b[0;34m)\u001b[0m\u001b[0;34m\u001b[0m\u001b[0;34m\u001b[0m\u001b[0m\n\u001b[0m",
      "\u001b[0;31mNameError\u001b[0m: name 'Periode' is not defined"
     ]
    }
   ],
   "source": [
    "np.abs(PH)*(Periode/(5*60))/(Lambda)"
   ]
  },
  {
   "cell_type": "code",
   "execution_count": 43,
   "metadata": {
    "scrolled": false
   },
   "outputs": [
    {
     "data": {
      "text/plain": [
       "-0.8767585362156995"
      ]
     },
     "execution_count": 43,
     "metadata": {},
     "output_type": "execute_result"
    }
   ],
   "source": [
    "PH*3/(2*np.pi)"
   ]
  },
  {
   "cell_type": "code",
   "execution_count": 44,
   "metadata": {},
   "outputs": [
    {
     "data": {
      "text/plain": [
       "6000"
      ]
     },
     "execution_count": 44,
     "metadata": {},
     "output_type": "execute_result"
    }
   ],
   "source": [
    "ret=20*Te\n",
    "ret"
   ]
  },
  {
   "cell_type": "code",
   "execution_count": 45,
   "metadata": {
    "scrolled": true
   },
   "outputs": [
    {
     "data": {
      "text/plain": [
       "[<matplotlib.lines.Line2D at 0x7fb7b42dbd00>]"
      ]
     },
     "execution_count": 45,
     "metadata": {},
     "output_type": "execute_result"
    }
   ],
   "source": [
    "seasonality=np.sin(Fr*2*np.pi*(time+ret))\n",
    "plt.plot(time,seasonality)"
   ]
  },
  {
   "cell_type": "code",
   "execution_count": 46,
   "metadata": {},
   "outputs": [
    {
     "data": {
      "text/plain": [
       "(1440,)"
      ]
     },
     "execution_count": 46,
     "metadata": {},
     "output_type": "execute_result"
    }
   ],
   "source": [
    "seasonalityRef=np.sin(Fr*2*np.pi*time)\n",
    "seasonalityRef.shape"
   ]
  },
  {
   "cell_type": "code",
   "execution_count": 47,
   "metadata": {},
   "outputs": [],
   "source": [
    "Cor=np.correlate(seasonalityRef, seasonality,\"full\")"
   ]
  },
  {
   "cell_type": "code",
   "execution_count": 48,
   "metadata": {
    "scrolled": true
   },
   "outputs": [
    {
     "data": {
      "text/plain": [
       "2879"
      ]
     },
     "execution_count": 48,
     "metadata": {},
     "output_type": "execute_result"
    }
   ],
   "source": [
    "NC=Cor.shape[0]\n",
    "NC"
   ]
  },
  {
   "cell_type": "code",
   "execution_count": 49,
   "metadata": {
    "scrolled": true
   },
   "outputs": [
    {
     "data": {
      "text/plain": [
       "[<matplotlib.lines.Line2D at 0x7fb7b429f6a0>]"
      ]
     },
     "execution_count": 49,
     "metadata": {},
     "output_type": "execute_result"
    }
   ],
   "source": [
    "plt.plot(time[:2*20],Cor[int(NC/2):int(NC/2)+2*20],'r')"
   ]
  },
  {
   "cell_type": "code",
   "execution_count": 50,
   "metadata": {},
   "outputs": [
    {
     "name": "stdout",
     "output_type": "stream",
     "text": [
      "0.7853981633974483\n"
     ]
    }
   ],
   "source": [
    "import numpy as np\n",
    "import matplotlib.pyplot as plt\n",
    "import scipy.fftpack\n",
    "\n",
    "phase = np.pi / 4\n",
    "print(phase)\n",
    "t = np.linspace(0, 10, num=200, endpoint=False)\n",
    "y = np.cos(2 * np.pi * t + phase)"
   ]
  },
  {
   "cell_type": "code",
   "execution_count": null,
   "metadata": {},
   "outputs": [],
   "source": []
  },
  {
   "cell_type": "code",
   "execution_count": 51,
   "metadata": {},
   "outputs": [
    {
     "data": {
      "text/plain": [
       "1.2"
      ]
     },
     "execution_count": 51,
     "metadata": {},
     "output_type": "execute_result"
    }
   ],
   "source": [
    "phase=1.2\n",
    "phase"
   ]
  },
  {
   "cell_type": "code",
   "execution_count": 52,
   "metadata": {
    "scrolled": false
   },
   "outputs": [
    {
     "data": {
      "text/plain": [
       "[<matplotlib.lines.Line2D at 0x7fb7b429f4f0>]"
      ]
     },
     "execution_count": 52,
     "metadata": {},
     "output_type": "execute_result"
    }
   ],
   "source": [
    "seasonality=np.sin(Fr*2*np.pi*time+phase)\n",
    "plt.plot(time,seasonality)"
   ]
  },
  {
   "cell_type": "code",
   "execution_count": 53,
   "metadata": {
    "scrolled": false
   },
   "outputs": [
    {
     "data": {
      "text/plain": [
       "99999.99999999999"
      ]
     },
     "execution_count": 53,
     "metadata": {},
     "output_type": "execute_result"
    }
   ],
   "source": [
    "1/Fr"
   ]
  },
  {
   "cell_type": "code",
   "execution_count": 54,
   "metadata": {},
   "outputs": [],
   "source": [
    "seasonalityPeriode=seasonality[0:int(T)]"
   ]
  },
  {
   "cell_type": "code",
   "execution_count": 55,
   "metadata": {
    "scrolled": true
   },
   "outputs": [],
   "source": [
    "plt.plot(time[0:int(T)],seasonalityPeriode)\n",
    "plt.grid()"
   ]
  },
  {
   "cell_type": "code",
   "execution_count": 56,
   "metadata": {
    "scrolled": false
   },
   "outputs": [],
   "source": [
    "Overtime=np.arange(Ne*Te,step=Te/100)\n"
   ]
  },
  {
   "cell_type": "code",
   "execution_count": 57,
   "metadata": {},
   "outputs": [],
   "source": [
    "seasonalityI=np.interp(Overtime,time, seasonality)"
   ]
  },
  {
   "cell_type": "code",
   "execution_count": 58,
   "metadata": {
    "scrolled": true
   },
   "outputs": [],
   "source": [
    "plt.plot(seasonalityI)\n",
    "plt.grid()"
   ]
  },
  {
   "cell_type": "code",
   "execution_count": 59,
   "metadata": {},
   "outputs": [],
   "source": [
    "from scipy import signal \n",
    "hamming = signal.hamming(seasonalityI.shape[0])"
   ]
  },
  {
   "cell_type": "code",
   "execution_count": 60,
   "metadata": {},
   "outputs": [],
   "source": [
    "seasonalityI=seasonalityI*hamming"
   ]
  },
  {
   "cell_type": "code",
   "execution_count": 61,
   "metadata": {
    "scrolled": true
   },
   "outputs": [
    {
     "name": "stdout",
     "output_type": "stream",
     "text": [
      "1.2\n",
      "35877.29445913876\n"
     ]
    },
    {
     "data": {
      "image/png": "[encoded data removed]",
      "text/plain": [
       "<Figure size 640x480 with 1 Axes>"
      ]
     },
     "metadata": {},
     "output_type": "display_data"
    }
   ],
   "source": [
    "Y = scipy.fftpack.fftshift(scipy.fftpack.fft(seasonalityI))\n",
    "f = scipy.fftpack.fftshift(scipy.fftpack.fftfreq(len(seasonalityI)))\n",
    "print(phase)\n",
    "p = np.angle(Y)\n",
    "print(max(np.abs(Y)))\n",
    "#p=p*T\n",
    "p[np.abs(Y) < 38000] = 0\n",
    "plt.plot(f, p)\n",
    "plt.xlim([-0.02,0.02])\n",
    "plt.show()"
   ]
  },
  {
   "cell_type": "code",
   "execution_count": 62,
   "metadata": {},
   "outputs": [
    {
     "data": {
      "text/plain": [
       "[<matplotlib.lines.Line2D at 0x7fb7b4200580>]"
      ]
     },
     "execution_count": 62,
     "metadata": {},
     "output_type": "execute_result"
    }
   ],
   "source": [
    "phase=np.arctan2(np.imag(Y),np.real(Y)) \n",
    "phase[np.abs(Y) < 47] = 0\n",
    "plt.plot(f,phase)"
   ]
  },
  {
   "cell_type": "markdown",
   "metadata": {},
   "source": [
    "https://stackoverflow.com/questions/54454723/scipy-fft-how-to-get-phase-angle/54466750"
   ]
  },
  {
   "cell_type": "raw",
   "metadata": {},
   "source": [
    "np.argwhere(x>1)"
   ]
  },
  {
   "cell_type": "code",
   "execution_count": 63,
   "metadata": {},
   "outputs": [],
   "source": [
    "def find_nearest(array, value):\n",
    "    array = np.asarray(array)\n",
    "    idx = (np.abs(array - value)).argmin()\n",
    "    return idx"
   ]
  },
  {
   "cell_type": "code",
   "execution_count": 64,
   "metadata": {},
   "outputs": [
    {
     "data": {
      "text/plain": [
       "724"
      ]
     },
     "execution_count": 64,
     "metadata": {},
     "output_type": "execute_result"
    }
   ],
   "source": [
    "find_nearest(xfr,Fr)"
   ]
  },
  {
   "cell_type": "code",
   "execution_count": 65,
   "metadata": {},
   "outputs": [
    {
     "data": {
      "text/plain": [
       "1e-05"
      ]
     },
     "execution_count": 65,
     "metadata": {},
     "output_type": "execute_result"
    }
   ],
   "source": [
    "Fr"
   ]
  },
  {
   "cell_type": "code",
   "execution_count": 66,
   "metadata": {
    "scrolled": true
   },
   "outputs": [
    {
     "data": {
      "text/plain": [
       "9.259480112077862e-14"
      ]
     },
     "execution_count": 66,
     "metadata": {},
     "output_type": "execute_result"
    }
   ],
   "source": [
    "np.abs(yplot[3])"
   ]
  },
  {
   "cell_type": "code",
   "execution_count": 67,
   "metadata": {
    "scrolled": false
   },
   "outputs": [
    {
     "data": {
      "text/plain": [
       "-1.5624009511836068"
      ]
     },
     "execution_count": 67,
     "metadata": {},
     "output_type": "execute_result"
    }
   ],
   "source": [
    "np.arctan(np.angle(yplot[3],deg=True))"
   ]
  },
  {
   "cell_type": "code",
   "execution_count": 68,
   "metadata": {},
   "outputs": [
    {
     "data": {
      "text/plain": [
       "1440"
      ]
     },
     "execution_count": 68,
     "metadata": {},
     "output_type": "execute_result"
    }
   ],
   "source": [
    "Ns=seasonality.shape[0]\n",
    "Ns"
   ]
  },
  {
   "cell_type": "code",
   "execution_count": 69,
   "metadata": {
    "scrolled": true
   },
   "outputs": [
    {
     "data": {
      "text/plain": [
       "1000"
      ]
     },
     "execution_count": 69,
     "metadata": {},
     "output_type": "execute_result"
    }
   ],
   "source": [
    "import numpy as np\n",
    "np.random.seed(12345)\n",
    "arparams = np.array([.75, -.25])\n",
    "maparams = np.array([.65, .35])\n",
    "ar = np.r_[1, -arparams] # add zero-lag and negate\n",
    "ma = np.r_[1, maparams] # add zero-lag\n",
    "y = sm.tsa.arma_generate_sample(ar, ma,Ns)\n",
    "plt.plot(y)\n",
    "N"
   ]
  },
  {
   "cell_type": "code",
   "execution_count": 70,
   "metadata": {},
   "outputs": [
    {
     "ename": "NameError",
     "evalue": "name 'Data' is not defined",
     "output_type": "error",
     "traceback": [
      "\u001b[0;31m---------------------------------------------------------------------------\u001b[0m",
      "\u001b[0;31mNameError\u001b[0m                                 Traceback (most recent call last)",
      "\u001b[0;32m<ipython-input-70-88e5f7dd417b>\u001b[0m in \u001b[0;36m<module>\u001b[0;34m\u001b[0m\n\u001b[1;32m      1\u001b[0m \u001b[0;32mimport\u001b[0m \u001b[0mpandas\u001b[0m \u001b[0;32mas\u001b[0m \u001b[0mpd\u001b[0m\u001b[0;34m\u001b[0m\u001b[0;34m\u001b[0m\u001b[0m\n\u001b[0;32m----> 2\u001b[0;31m \u001b[0mdf\u001b[0m \u001b[0;34m=\u001b[0m \u001b[0mpd\u001b[0m\u001b[0;34m.\u001b[0m\u001b[0mDataFrame\u001b[0m\u001b[0;34m(\u001b[0m\u001b[0mData\u001b[0m\u001b[0;34m[\u001b[0m\u001b[0;34m:\u001b[0m\u001b[0;34m,\u001b[0m \u001b[0mnp\u001b[0m\u001b[0;34m.\u001b[0m\u001b[0mnewaxis\u001b[0m\u001b[0;34m]\u001b[0m\u001b[0;34m)\u001b[0m\u001b[0;34m\u001b[0m\u001b[0;34m\u001b[0m\u001b[0m\n\u001b[0m\u001b[1;32m      3\u001b[0m \u001b[0;31m#df.index = dates2\u001b[0m\u001b[0;34m\u001b[0m\u001b[0;34m\u001b[0m\u001b[0;34m\u001b[0m\u001b[0m\n",
      "\u001b[0;31mNameError\u001b[0m: name 'Data' is not defined"
     ]
    }
   ],
   "source": [
    " \n",
    "import pandas as pd\n",
    "df = pd.DataFrame(Data[:, np.newaxis])\n",
    "#df.index = dates2"
   ]
  },
  {
   "cell_type": "code",
   "execution_count": null,
   "metadata": {},
   "outputs": [],
   "source": []
  },
  {
   "cell_type": "raw",
   "metadata": {},
   "source": [
    "x = np.linspace(0,y.shape[0],y.shape[0])"
   ]
  },
  {
   "cell_type": "code",
   "execution_count": 71,
   "metadata": {},
   "outputs": [
    {
     "data": {
      "text/plain": [
       "8"
      ]
     },
     "execution_count": 71,
     "metadata": {},
     "output_type": "execute_result"
    }
   ],
   "source": [
    "trend = 0.00000\n",
    "8"
   ]
  },
  {
   "cell_type": "code",
   "execution_count": 72,
   "metadata": {
    "scrolled": true
   },
   "outputs": [
    {
     "data": {
      "text/plain": [
       "[<matplotlib.lines.Line2D at 0x7fb7b421eac0>]"
      ]
     },
     "execution_count": 72,
     "metadata": {},
     "output_type": "execute_result"
    }
   ],
   "source": [
    "trend=0.000002*time+3\n",
    "#seasonality=4 + 2 * np.sin(200 * x)\n",
    "x.shape\n",
    "plt.plot(trend)"
   ]
  },
  {
   "cell_type": "markdown",
   "metadata": {},
   "source": [
    "Fréquence neterme de minutes"
   ]
  },
  {
   "cell_type": "code",
   "execution_count": 73,
   "metadata": {},
   "outputs": [],
   "source": [
    "Data=trend+seasonality+0.3*y"
   ]
  },
  {
   "cell_type": "code",
   "execution_count": 74,
   "metadata": {
    "scrolled": true
   },
   "outputs": [],
   "source": [
    "\n",
    "import pandas as pd\n",
    "df = pd.DataFrame(Data[:, np.newaxis])\n",
    "#df.index = dates2"
   ]
  },
  {
   "cell_type": "code",
   "execution_count": 75,
   "metadata": {},
   "outputs": [
    {
     "data": {
      "text/plain": [
       "<AxesSubplot:>"
      ]
     },
     "execution_count": 75,
     "metadata": {},
     "output_type": "execute_result"
    }
   ],
   "source": [
    "df.plot()"
   ]
  },
  {
   "cell_type": "code",
   "execution_count": 76,
   "metadata": {},
   "outputs": [],
   "source": [
    "df.to_csv('Simulated.csv')"
   ]
  },
  {
   "cell_type": "code",
   "execution_count": 77,
   "metadata": {},
   "outputs": [],
   "source": [
    "from statsmodels.tsa.arima.model import ARIMA"
   ]
  },
  {
   "cell_type": "code",
   "execution_count": 78,
   "metadata": {},
   "outputs": [],
   "source": [
    "model = ARIMA(y, order=(2,0,2))\n",
    "model_fit = model.fit()"
   ]
  },
  {
   "cell_type": "code",
   "execution_count": 79,
   "metadata": {},
   "outputs": [
    {
     "data": {
      "text/html": [
       "<table class=\"simpletable\">\n",
       "<caption>SARIMAX Results</caption>\n",
       "<tr>\n",
       "  <th>Dep. Variable:</th>           <td>y</td>        <th>  No. Observations:  </th>   <td>1440</td>   \n",
       "</tr>\n",
       "<tr>\n",
       "  <th>Model:</th>            <td>ARIMA(2, 0, 2)</td>  <th>  Log Likelihood     </th> <td>-2020.084</td>\n",
       "</tr>\n",
       "<tr>\n",
       "  <th>Date:</th>            <td>Mon, 06 Feb 2023</td> <th>  AIC                </th> <td>4052.168</td> \n",
       "</tr>\n",
       "<tr>\n",
       "  <th>Time:</th>                <td>16:16:24</td>     <th>  BIC                </th> <td>4083.802</td> \n",
       "</tr>\n",
       "<tr>\n",
       "  <th>Sample:</th>                  <td>0</td>        <th>  HQIC               </th> <td>4063.977</td> \n",
       "</tr>\n",
       "<tr>\n",
       "  <th></th>                      <td> - 1440</td>     <th>                     </th>     <td> </td>    \n",
       "</tr>\n",
       "<tr>\n",
       "  <th>Covariance Type:</th>        <td>opg</td>       <th>                     </th>     <td> </td>    \n",
       "</tr>\n",
       "</table>\n",
       "<table class=\"simpletable\">\n",
       "<tr>\n",
       "     <td></td>       <th>coef</th>     <th>std err</th>      <th>z</th>      <th>P>|z|</th>  <th>[0.025</th>    <th>0.975]</th>  \n",
       "</tr>\n",
       "<tr>\n",
       "  <th>const</th>  <td>   -0.0451</td> <td>    0.104</td> <td>   -0.435</td> <td> 0.664</td> <td>   -0.248</td> <td>    0.158</td>\n",
       "</tr>\n",
       "<tr>\n",
       "  <th>ar.L1</th>  <td>    0.6583</td> <td>    0.063</td> <td>   10.480</td> <td> 0.000</td> <td>    0.535</td> <td>    0.781</td>\n",
       "</tr>\n",
       "<tr>\n",
       "  <th>ar.L2</th>  <td>   -0.1999</td> <td>    0.050</td> <td>   -3.961</td> <td> 0.000</td> <td>   -0.299</td> <td>   -0.101</td>\n",
       "</tr>\n",
       "<tr>\n",
       "  <th>ma.L1</th>  <td>    0.7389</td> <td>    0.059</td> <td>   12.593</td> <td> 0.000</td> <td>    0.624</td> <td>    0.854</td>\n",
       "</tr>\n",
       "<tr>\n",
       "  <th>ma.L2</th>  <td>    0.4094</td> <td>    0.041</td> <td>    9.987</td> <td> 0.000</td> <td>    0.329</td> <td>    0.490</td>\n",
       "</tr>\n",
       "<tr>\n",
       "  <th>sigma2</th> <td>    0.9669</td> <td>    0.035</td> <td>   27.662</td> <td> 0.000</td> <td>    0.898</td> <td>    1.035</td>\n",
       "</tr>\n",
       "</table>\n",
       "<table class=\"simpletable\">\n",
       "<tr>\n",
       "  <th>Ljung-Box (L1) (Q):</th>     <td>0.00</td> <th>  Jarque-Bera (JB):  </th> <td>6.45</td>\n",
       "</tr>\n",
       "<tr>\n",
       "  <th>Prob(Q):</th>                <td>1.00</td> <th>  Prob(JB):          </th> <td>0.04</td>\n",
       "</tr>\n",
       "<tr>\n",
       "  <th>Heteroskedasticity (H):</th> <td>0.95</td> <th>  Skew:              </th> <td>0.14</td>\n",
       "</tr>\n",
       "<tr>\n",
       "  <th>Prob(H) (two-sided):</th>    <td>0.60</td> <th>  Kurtosis:          </th> <td>3.17</td>\n",
       "</tr>\n",
       "</table><br/><br/>Warnings:<br/>[1] Covariance matrix calculated using the outer product of gradients (complex-step)."
      ],
      "text/plain": [
       "<class 'statsmodels.iolib.summary.Summary'>\n",
       "\"\"\"\n",
       "                               SARIMAX Results                                \n",
       "==============================================================================\n",
       "Dep. Variable:                      y   No. Observations:                 1440\n",
       "Model:                 ARIMA(2, 0, 2)   Log Likelihood               -2020.084\n",
       "Date:                Mon, 06 Feb 2023   AIC                           4052.168\n",
       "Time:                        16:16:24   BIC                           4083.802\n",
       "Sample:                             0   HQIC                          4063.977\n",
       "                               - 1440                                         \n",
       "Covariance Type:                  opg                                         \n",
       "==============================================================================\n",
       "                 coef    std err          z      P>|z|      [0.025      0.975]\n",
       "------------------------------------------------------------------------------\n",
       "const         -0.0451      0.104     -0.435      0.664      -0.248       0.158\n",
       "ar.L1          0.6583      0.063     10.480      0.000       0.535       0.781\n",
       "ar.L2         -0.1999      0.050     -3.961      0.000      -0.299      -0.101\n",
       "ma.L1          0.7389      0.059     12.593      0.000       0.624       0.854\n",
       "ma.L2          0.4094      0.041      9.987      0.000       0.329       0.490\n",
       "sigma2         0.9669      0.035     27.662      0.000       0.898       1.035\n",
       "===================================================================================\n",
       "Ljung-Box (L1) (Q):                   0.00   Jarque-Bera (JB):                 6.45\n",
       "Prob(Q):                              1.00   Prob(JB):                         0.04\n",
       "Heteroskedasticity (H):               0.95   Skew:                             0.14\n",
       "Prob(H) (two-sided):                  0.60   Kurtosis:                         3.17\n",
       "===================================================================================\n",
       "\n",
       "Warnings:\n",
       "[1] Covariance matrix calculated using the outer product of gradients (complex-step).\n",
       "\"\"\""
      ]
     },
     "execution_count": 79,
     "metadata": {},
     "output_type": "execute_result"
    }
   ],
   "source": [
    "model_fit.summary()"
   ]
  },
  {
   "cell_type": "code",
   "execution_count": 80,
   "metadata": {},
   "outputs": [
    {
     "name": "stdout",
     "output_type": "stream",
     "text": [
      "Magnitude: 89.90818804706949 , phase: -0.26153274487452727\n"
     ]
    },
    {
     "data": {
      "image/png": "[encoded data removed]",
      "text/plain": [
       "<Figure size 640x480 with 1 Axes>"
      ]
     },
     "metadata": {},
     "output_type": "display_data"
    },
    {
     "data": {
      "image/png": "[encoded data removed]",
      "text/plain": [
       "<Figure size 640x480 with 1 Axes>"
      ]
     },
     "metadata": {},
     "output_type": "display_data"
    }
   ],
   "source": [
    "import numpy as np\n",
    "import matplotlib.pyplot as plt\n",
    "\n",
    "# Number of sample points\n",
    "N = 1000\n",
    "\n",
    "# Sample spacing\n",
    "T = 1.0 / 800.0     # f = 800 Hz\n",
    "\n",
    "# Create a signal\n",
    "x = np.linspace(0.0, N*T, N)\n",
    "t0 = np.pi/6   # non-zero phase of the second sine\n",
    "y = np.sin(200.0 * 2.0*np.pi*x + t0)\n",
    "yf = np.fft.fft(y) # to normalize use norm='ortho' as an additional argument\n",
    "\n",
    "# Where is a 200 Hz frequency in the results?\n",
    "freq = np.fft.fftfreq(x.size, d=T)\n",
    "index, = np.where(np.isclose(freq, 200, atol=1/(T*N)))\n",
    "\n",
    "# Get magnitude and phase\n",
    "magnitude = np.abs(yf[index[0]])\n",
    "phase = np.angle(yf[index[0]])\n",
    "print(\"Magnitude:\", magnitude, \", phase:\", phase)\n",
    "\n",
    "# Plot a spectrum \n",
    "plt.plot(freq[0:N//2], 2/N*np.abs(yf[0:N//2]), label='amplitude spectrum')   # in a conventional form\n",
    "plt.plot(freq[0:N//2], np.angle(yf[0:N//2]), label='phase spectrum')\n",
    "plt.legend()\n",
    "plt.grid()\n",
    "plt.show()"
   ]
  },
  {
   "cell_type": "code",
   "execution_count": 81,
   "metadata": {
    "scrolled": false
   },
   "outputs": [
    {
     "name": "stdout",
     "output_type": "stream",
     "text": [
      "0.7853981633974483\n"
     ]
    },
    {
     "data": {
      "image/png": "[encoded data removed]",
      "text/plain": [
       "<Figure size 640x480 with 2 Axes>"
      ]
     },
     "metadata": {},
     "output_type": "display_data"
    }
   ],
   "source": [
    "import numpy as np\n",
    "import pylab as pl\n",
    "\n",
    "num_t = 1238\n",
    "t= np.linspace(0, 1, num_t, endpoint=False)\n",
    "w = 2.0*np.pi*10\n",
    "phase =np.pi/4\n",
    "dt = 1.0/num_t\n",
    "amp = np.fft.rfft(np.cos(w*t+phase))\n",
    "freqs = np.fft.rfftfreq(t.shape[-1],dt)\n",
    "mag=np.sqrt(amp.real**2+amp.imag**2)\n",
    "pha=np.arctan2(amp.imag,amp.real)\n",
    "pha[mag<1]=0\n",
    "print(phase)\n",
    "pl.subplot(211)\n",
    "pl.plot(freqs[:20],np.sqrt(amp.real**2+amp.imag**2)[:20])\n",
    "pl.subplot(212)\n",
    "pl.plot(freqs[:20],(pha)[:20])\n",
    "pl.grid()\n",
    "pl.show()\n",
    "\n"
   ]
  },
  {
   "cell_type": "code",
   "execution_count": null,
   "metadata": {},
   "outputs": [],
   "source": [
    "Fr"
   ]
  },
  {
   "cell_type": "code",
   "execution_count": null,
   "metadata": {},
   "outputs": [],
   "source": [
    "import numpy as np\n",
    "import pylab as pl\n",
    "\n",
    "num_t = 1000\n",
    "End=100000\n",
    "t= np.linspace(0,End, num_t, endpoint=False)\n",
    "Fr=0.00001\n",
    "w = 2.0*np.pi*Fr\n",
    "phase =np.pi/4\n",
    "Delay=phase/(2*np.pi*Fr)\n",
    "print(Delay)\n",
    "dt = End/num_t\n",
    "amp = np.fft.rfft(np.cos(w*t+phase))\n",
    "freqs = np.fft.rfftfreq(t.shape[-1],dt)\n",
    "mag=np.sqrt(amp.real**2+amp.imag**2)\n",
    "pha=np.arctan2(amp.imag,amp.real)\n",
    "pha[abs(mag)<1]=0\n",
    "print(phase)\n",
    "PHA=max(pha)\n",
    "print(PHA)\n",
    "if(PHA<0):\n",
    "    PHA=PHA+2*np.pi\n",
    "print(PHA)\n",
    "pl.subplot(311)\n",
    "pl.plot(freqs[:10],np.sqrt(amp.real**2+amp.imag**2)[:10])\n",
    "pl.subplot(312)\n",
    "pl.plot(freqs[:10],(pha)[:10])\n",
    "pl.subplot(313)\n",
    "pl.plot(t,np.cos(w*t+phase))\n",
    "pl.grid()\n",
    "pl.show()\n",
    "\n"
   ]
  },
  {
   "cell_type": "code",
   "execution_count": null,
   "metadata": {},
   "outputs": [],
   "source": [
    "phase"
   ]
  },
  {
   "cell_type": "code",
   "execution_count": null,
   "metadata": {},
   "outputs": [],
   "source": [
    "import numpy as np\n",
    "import matplotlib.pyplot as plt\n",
    "from scipy.fftpack import fft, fftfreq\n",
    "\n",
    "# 1Hz sine wave\n",
    "npts  = 100\n",
    "tmax  = 10                          \n",
    "t     = np.linspace(0, tmax, npts,endpoint=False)\n",
    "y     = np.sin(2*np.pi*2*t)\n",
    "dt    = tmax/npts\n",
    "\n",
    "# FFT computation\n",
    "Y      = fft(y)\n",
    "freq   = fftfreq(npts, d=dt)\n",
    "amplit = abs(Y)/npts\n",
    "phase  = np.angle(Y)\n",
    "phase  = phase / np.pi\n",
    "\n",
    "fig, ax = plt.subplots(1, 2, figsize=(10,4))\n",
    "ax[0].plot(freq, amplit)\n",
    "ax[1].plot(freq, phase)\n",
    "\n",
    "ax[0].plot([2,2], [0,0.5], '--')\n",
    "ax[0].plot([-2,-2], [0,0.5], '--')\n",
    "ax[1].plot([2,2], [-1,1], '--')\n",
    "ax[1].plot([-2,-2], [-1,1], '--')\n"
   ]
  },
  {
   "cell_type": "markdown",
   "metadata": {},
   "source": [
    "# Lien"
   ]
  },
  {
   "cell_type": "code",
   "execution_count": null,
   "metadata": {},
   "outputs": [],
   "source": [
    "Data2=4*Data+2\n",
    "plt.plot(Data2)"
   ]
  },
  {
   "cell_type": "code",
   "execution_count": null,
   "metadata": {},
   "outputs": [],
   "source": [
    "import warnings\n",
    "\n",
    "z = np.polyfit(Data,Data2,1)\n",
    "z"
   ]
  },
  {
   "cell_type": "code",
   "execution_count": null,
   "metadata": {},
   "outputs": [],
   "source": [
    "p = np.poly1d(z)\n",
    "plt.plot(time,p(time))"
   ]
  },
  {
   "cell_type": "code",
   "execution_count": null,
   "metadata": {},
   "outputs": [],
   "source": []
  }
 ],
 "metadata": {
  "kernelspec": {
   "display_name": "GerinatEnvConda",
   "language": "python",
   "name": "gerinatenvconda"
  },
  "language_info": {
   "codemirror_mode": {
    "name": "ipython",
    "version": 3
   },
   "file_extension": ".py",
   "mimetype": "text/x-python",
   "name": "python",
   "nbconvert_exporter": "python",
   "pygments_lexer": "ipython3",
   "version": "3.8.10"
  }
 },
 "nbformat": 4,
 "nbformat_minor": 2
}
